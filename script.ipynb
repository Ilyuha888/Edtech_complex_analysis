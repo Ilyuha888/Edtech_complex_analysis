{
 "cells": [
  {
   "cell_type": "markdown",
   "metadata": {},
   "source": [
    "# Анализ результатов A/B теста с новым методом оплаты"
   ]
  },
  {
   "cell_type": "markdown",
   "metadata": {},
   "source": [
    "## Библиотеки"
   ]
  },
  {
   "cell_type": "code",
   "execution_count": 1,
   "metadata": {},
   "outputs": [
    {
     "name": "stderr",
     "output_type": "stream",
     "text": [
      "/opt/tljh/user/lib/python3.7/site-packages/outdated/utils.py:18: OutdatedCacheFailedWarning: Failed to use cache while checking for outdated package.\n",
      "Set the environment variable OUTDATED_RAISE_EXCEPTION=1 for a full traceback.\n",
      "Set the environment variable OUTDATED_IGNORE=1 to disable these warnings.\n",
      "  **kwargs\n",
      "/opt/tljh/user/lib/python3.7/site-packages/outdated/utils.py:18: OutdatedPackageWarning: The package outdated is out of date. Your version is 0.2.1, the latest is 0.2.2.\n",
      "Set the environment variable OUTDATED_IGNORE=1 to disable these warnings.\n",
      "  **kwargs\n",
      "/opt/tljh/user/lib/python3.7/site-packages/outdated/utils.py:18: OutdatedPackageWarning: The package pingouin is out of date. Your version is 0.4.0, the latest is 0.5.4.\n",
      "Set the environment variable OUTDATED_IGNORE=1 to disable these warnings.\n",
      "  **kwargs\n"
     ]
    }
   ],
   "source": [
    "import pandas as pd # Работа с таблицами\n",
    "import numpy as np # Математика над таблицами\n",
    "import pingouin as pg # Для статистических методов\n",
    "import requests # Для загрузки данных\n",
    "from urllib.parse import urlencode # Для загрузки данных\n",
    "import seaborn as sns # Для визуализации\n",
    "import matplotlib.pyplot as plt # Для файнтюнинга визуализации\n",
    "from random import sample # Для симмуляции\n",
    "from random import seed # Для воспроизводимости\n",
    "import pandahouse as ph # Для подключения к серверу ClickHouse\n",
    "%matplotlib inline"
   ]
  },
  {
   "cell_type": "markdown",
   "metadata": {},
   "source": [
    "## Посмотрим данные\n",
    "\n",
    "### groups.csv\n",
    "файл с информацией о принадлежности пользователя к контрольной или экспериментальной группе (А – контроль, B – целевая группа)"
   ]
  },
  {
   "cell_type": "code",
   "execution_count": 7,
   "metadata": {},
   "outputs": [],
   "source": [
    "# Объявим нужные функции\n",
    "\n",
    "#Функция для получения датафрейма по ссылке на яндекс диск\n",
    "def get_df_rom_ya_disk(public_key, sep = ','):\n",
    "    # Используем api \n",
    "    base_url = 'https://cloud-api.yandex.net/v1/disk/public/resources/download?' \n",
    " \n",
    "    # Получаем url \n",
    "    final_url = base_url + urlencode(dict(public_key=public_key)) \n",
    "    response = requests.get(final_url) \n",
    "    download_url = response.json()['href'] \n",
    " \n",
    "    # Загружаем файл в df \n",
    "    download_response = requests.get(download_url) \n",
    "    return pd.read_csv(download_url, sep = sep) "
   ]
  },
  {
   "cell_type": "code",
   "execution_count": 38,
   "metadata": {},
   "outputs": [
    {
     "name": "stdout",
     "output_type": "stream",
     "text": [
      "user_id    0\n",
      "group      0\n",
      "dtype: int64\n",
      "user_id    74484\n",
      "group          2\n",
      "dtype: int64\n"
     ]
    },
    {
     "data": {
      "text/html": [
       "<div>\n",
       "<style scoped>\n",
       "    .dataframe tbody tr th:only-of-type {\n",
       "        vertical-align: middle;\n",
       "    }\n",
       "\n",
       "    .dataframe tbody tr th {\n",
       "        vertical-align: top;\n",
       "    }\n",
       "\n",
       "    .dataframe thead th {\n",
       "        text-align: right;\n",
       "    }\n",
       "</style>\n",
       "<table border=\"1\" class=\"dataframe\">\n",
       "  <thead>\n",
       "    <tr style=\"text-align: right;\">\n",
       "      <th></th>\n",
       "      <th>user_id</th>\n",
       "      <th>group</th>\n",
       "    </tr>\n",
       "  </thead>\n",
       "  <tbody>\n",
       "    <tr>\n",
       "      <th>0</th>\n",
       "      <td>1489</td>\n",
       "      <td>B</td>\n",
       "    </tr>\n",
       "    <tr>\n",
       "      <th>1</th>\n",
       "      <td>1627</td>\n",
       "      <td>A</td>\n",
       "    </tr>\n",
       "    <tr>\n",
       "      <th>2</th>\n",
       "      <td>1768</td>\n",
       "      <td>B</td>\n",
       "    </tr>\n",
       "    <tr>\n",
       "      <th>3</th>\n",
       "      <td>1783</td>\n",
       "      <td>B</td>\n",
       "    </tr>\n",
       "    <tr>\n",
       "      <th>4</th>\n",
       "      <td>1794</td>\n",
       "      <td>A</td>\n",
       "    </tr>\n",
       "    <tr>\n",
       "      <th>...</th>\n",
       "      <td>...</td>\n",
       "      <td>...</td>\n",
       "    </tr>\n",
       "    <tr>\n",
       "      <th>74479</th>\n",
       "      <td>5692459</td>\n",
       "      <td>B</td>\n",
       "    </tr>\n",
       "    <tr>\n",
       "      <th>74480</th>\n",
       "      <td>5692572</td>\n",
       "      <td>B</td>\n",
       "    </tr>\n",
       "    <tr>\n",
       "      <th>74481</th>\n",
       "      <td>5692865</td>\n",
       "      <td>B</td>\n",
       "    </tr>\n",
       "    <tr>\n",
       "      <th>74482</th>\n",
       "      <td>5693667</td>\n",
       "      <td>B</td>\n",
       "    </tr>\n",
       "    <tr>\n",
       "      <th>74483</th>\n",
       "      <td>5694419</td>\n",
       "      <td>B</td>\n",
       "    </tr>\n",
       "  </tbody>\n",
       "</table>\n",
       "<p>74484 rows × 2 columns</p>\n",
       "</div>"
      ],
      "text/plain": [
       "       user_id group\n",
       "0         1489     B\n",
       "1         1627     A\n",
       "2         1768     B\n",
       "3         1783     B\n",
       "4         1794     A\n",
       "...        ...   ...\n",
       "74479  5692459     B\n",
       "74480  5692572     B\n",
       "74481  5692865     B\n",
       "74482  5693667     B\n",
       "74483  5694419     B\n",
       "\n",
       "[74484 rows x 2 columns]"
      ]
     },
     "execution_count": 38,
     "metadata": {},
     "output_type": "execute_result"
    }
   ],
   "source": [
    "# Выгрузим\n",
    "groups = get_df_rom_ya_disk('https://disk.yandex.ru/d/UhyYx41rTt3clQ', ';')\n",
    "groups = groups.rename(columns = {'id':'user_id', 'grp':'group'})\n",
    "print(groups.isna().sum()) # Пропусков нет\n",
    "print(groups.nunique()) # Без дублей\n",
    "groups"
   ]
  },
  {
   "cell_type": "code",
   "execution_count": 9,
   "metadata": {},
   "outputs": [
    {
     "data": {
      "text/plain": [
       "<matplotlib.axes._subplots.AxesSubplot at 0x7f4fd9166cc0>"
      ]
     },
     "execution_count": 9,
     "metadata": {},
     "output_type": "execute_result"
    },
    {
     "data": {
      "image/png": "[encoded data removed]",
      "text/plain": [
       "<Figure size 432x288 with 1 Axes>"
      ]
     },
     "metadata": {
      "needs_background": "light"
     },
     "output_type": "display_data"
    }
   ],
   "source": [
    "# Посмотрим распредление\n",
    "groups_count = groups.groupby('group', as_index = False).agg('count')\n",
    "sns.barplot(data = groups_count, x =\"group\", y = \"user_id\")\n",
    "\n",
    "# Мы явно видим ассиметрию в группах, это надо будет потом учесть"
   ]
  },
  {
   "cell_type": "markdown",
   "metadata": {},
   "source": [
    "### groups_add.csv\n",
    "дополнительный файл с пользователями, который вам прислали спустя 2 дня после передачи данных"
   ]
  },
  {
   "cell_type": "code",
   "execution_count": 39,
   "metadata": {},
   "outputs": [
    {
     "name": "stdout",
     "output_type": "stream",
     "text": [
      "user_id    0\n",
      "group      0\n",
      "dtype: int64\n",
      "user_id    92\n",
      "group       2\n",
      "dtype: int64\n"
     ]
    },
    {
     "data": {
      "text/html": [
       "<div>\n",
       "<style scoped>\n",
       "    .dataframe tbody tr th:only-of-type {\n",
       "        vertical-align: middle;\n",
       "    }\n",
       "\n",
       "    .dataframe tbody tr th {\n",
       "        vertical-align: top;\n",
       "    }\n",
       "\n",
       "    .dataframe thead th {\n",
       "        text-align: right;\n",
       "    }\n",
       "</style>\n",
       "<table border=\"1\" class=\"dataframe\">\n",
       "  <thead>\n",
       "    <tr style=\"text-align: right;\">\n",
       "      <th></th>\n",
       "      <th>user_id</th>\n",
       "      <th>group</th>\n",
       "    </tr>\n",
       "  </thead>\n",
       "  <tbody>\n",
       "    <tr>\n",
       "      <th>0</th>\n",
       "      <td>5694584</td>\n",
       "      <td>B</td>\n",
       "    </tr>\n",
       "    <tr>\n",
       "      <th>1</th>\n",
       "      <td>5694830</td>\n",
       "      <td>B</td>\n",
       "    </tr>\n",
       "    <tr>\n",
       "      <th>2</th>\n",
       "      <td>5695057</td>\n",
       "      <td>B</td>\n",
       "    </tr>\n",
       "    <tr>\n",
       "      <th>3</th>\n",
       "      <td>5698872</td>\n",
       "      <td>B</td>\n",
       "    </tr>\n",
       "    <tr>\n",
       "      <th>4</th>\n",
       "      <td>5699067</td>\n",
       "      <td>B</td>\n",
       "    </tr>\n",
       "    <tr>\n",
       "      <th>...</th>\n",
       "      <td>...</td>\n",
       "      <td>...</td>\n",
       "    </tr>\n",
       "    <tr>\n",
       "      <th>87</th>\n",
       "      <td>200247820</td>\n",
       "      <td>B</td>\n",
       "    </tr>\n",
       "    <tr>\n",
       "      <th>88</th>\n",
       "      <td>201032527</td>\n",
       "      <td>B</td>\n",
       "    </tr>\n",
       "    <tr>\n",
       "      <th>89</th>\n",
       "      <td>201067612</td>\n",
       "      <td>B</td>\n",
       "    </tr>\n",
       "    <tr>\n",
       "      <th>90</th>\n",
       "      <td>201067653</td>\n",
       "      <td>B</td>\n",
       "    </tr>\n",
       "    <tr>\n",
       "      <th>91</th>\n",
       "      <td>201067659</td>\n",
       "      <td>B</td>\n",
       "    </tr>\n",
       "  </tbody>\n",
       "</table>\n",
       "<p>92 rows × 2 columns</p>\n",
       "</div>"
      ],
      "text/plain": [
       "      user_id group\n",
       "0     5694584     B\n",
       "1     5694830     B\n",
       "2     5695057     B\n",
       "3     5698872     B\n",
       "4     5699067     B\n",
       "..        ...   ...\n",
       "87  200247820     B\n",
       "88  201032527     B\n",
       "89  201067612     B\n",
       "90  201067653     B\n",
       "91  201067659     B\n",
       "\n",
       "[92 rows x 2 columns]"
      ]
     },
     "execution_count": 39,
     "metadata": {},
     "output_type": "execute_result"
    }
   ],
   "source": [
    "# Выгрузим\n",
    "groups_add = get_df_rom_ya_disk('https://disk.yandex.ru/d/5Kxrz02m3IBUwQ', ',')\n",
    "groups_add = groups_add.rename(columns = {'id':'user_id', 'grp':'group'})\n",
    "print(groups_add.isna().sum()) # Пропусков нет\n",
    "print(groups_add.nunique()) # Без дублей\n",
    "groups_add"
   ]
  },
  {
   "cell_type": "code",
   "execution_count": 11,
   "metadata": {
    "scrolled": true
   },
   "outputs": [
    {
     "data": {
      "text/plain": [
       "<matplotlib.axes._subplots.AxesSubplot at 0x7f4fd90d82b0>"
      ]
     },
     "execution_count": 11,
     "metadata": {},
     "output_type": "execute_result"
    },
    {
     "data": {
      "image/png": "[encoded data removed]",
      "text/plain": [
       "<Figure size 432x288 with 1 Axes>"
      ]
     },
     "metadata": {
      "needs_background": "light"
     },
     "output_type": "display_data"
    }
   ],
   "source": [
    "# Посмотрим распредление\n",
    "groups_add_count = groups_add.groupby('group', as_index = False).agg('count')\n",
    "sns.barplot(data = groups_add_count, x =\"group\", y = \"user_id\")\n",
    "\n",
    "# Мы явно видим ассиметрию в группах, это надо будет потом учесть"
   ]
  },
  {
   "cell_type": "code",
   "execution_count": 12,
   "metadata": {},
   "outputs": [],
   "source": [
    "# В обоих выборка явный дисбаланс по распределению\n",
    "# Также данные собраны в разное время\n",
    "# Так как мы не знаем, почему вторая партия отдельно была прислана, то стоит воздержаться от соединения датасетов\n",
    "# Я решаю опираться на начальную выборку\n",
    "# Вторую выборку рассматривать отдельно нет возможности из-за малых размеров"
   ]
  },
  {
   "cell_type": "markdown",
   "metadata": {},
   "source": [
    "### active_studs.csv\n",
    "файл с информацией о пользователях, которые зашли на платформу в дни проведения эксперимента. "
   ]
  },
  {
   "cell_type": "code",
   "execution_count": 13,
   "metadata": {},
   "outputs": [
    {
     "name": "stdout",
     "output_type": "stream",
     "text": [
      "user_id    0\n",
      "dtype: int64\n",
      "user_id    8341\n",
      "dtype: int64\n"
     ]
    },
    {
     "data": {
      "text/html": [
       "<div>\n",
       "<style scoped>\n",
       "    .dataframe tbody tr th:only-of-type {\n",
       "        vertical-align: middle;\n",
       "    }\n",
       "\n",
       "    .dataframe tbody tr th {\n",
       "        vertical-align: top;\n",
       "    }\n",
       "\n",
       "    .dataframe thead th {\n",
       "        text-align: right;\n",
       "    }\n",
       "</style>\n",
       "<table border=\"1\" class=\"dataframe\">\n",
       "  <thead>\n",
       "    <tr style=\"text-align: right;\">\n",
       "      <th></th>\n",
       "      <th>user_id</th>\n",
       "    </tr>\n",
       "  </thead>\n",
       "  <tbody>\n",
       "    <tr>\n",
       "      <th>0</th>\n",
       "      <td>581585</td>\n",
       "    </tr>\n",
       "    <tr>\n",
       "      <th>1</th>\n",
       "      <td>5723133</td>\n",
       "    </tr>\n",
       "    <tr>\n",
       "      <th>2</th>\n",
       "      <td>3276743</td>\n",
       "    </tr>\n",
       "    <tr>\n",
       "      <th>3</th>\n",
       "      <td>4238589</td>\n",
       "    </tr>\n",
       "    <tr>\n",
       "      <th>4</th>\n",
       "      <td>4475369</td>\n",
       "    </tr>\n",
       "    <tr>\n",
       "      <th>...</th>\n",
       "      <td>...</td>\n",
       "    </tr>\n",
       "    <tr>\n",
       "      <th>8336</th>\n",
       "      <td>1794344</td>\n",
       "    </tr>\n",
       "    <tr>\n",
       "      <th>8337</th>\n",
       "      <td>296883</td>\n",
       "    </tr>\n",
       "    <tr>\n",
       "      <th>8338</th>\n",
       "      <td>3598448</td>\n",
       "    </tr>\n",
       "    <tr>\n",
       "      <th>8339</th>\n",
       "      <td>3610547</td>\n",
       "    </tr>\n",
       "    <tr>\n",
       "      <th>8340</th>\n",
       "      <td>205705</td>\n",
       "    </tr>\n",
       "  </tbody>\n",
       "</table>\n",
       "<p>8341 rows × 1 columns</p>\n",
       "</div>"
      ],
      "text/plain": [
       "      user_id\n",
       "0      581585\n",
       "1     5723133\n",
       "2     3276743\n",
       "3     4238589\n",
       "4     4475369\n",
       "...       ...\n",
       "8336  1794344\n",
       "8337   296883\n",
       "8338  3598448\n",
       "8339  3610547\n",
       "8340   205705\n",
       "\n",
       "[8341 rows x 1 columns]"
      ]
     },
     "execution_count": 13,
     "metadata": {},
     "output_type": "execute_result"
    }
   ],
   "source": [
    "active_studs = get_df_rom_ya_disk('https://disk.yandex.ru/d/Tbs44Bm6H_FwFQ', ',')\n",
    "active_studs = active_studs.rename(columns = {'student_id':'user_id'})\n",
    "print(active_studs.isna().sum()) # Пропусков нет\n",
    "print(active_studs.nunique()) # Без дублей\n",
    "active_studs"
   ]
  },
  {
   "cell_type": "markdown",
   "metadata": {},
   "source": [
    "### checks.csv\n",
    "файл с информацией об оплатах пользователей в дни проведения эксперимента. "
   ]
  },
  {
   "cell_type": "code",
   "execution_count": 14,
   "metadata": {},
   "outputs": [
    {
     "name": "stdout",
     "output_type": "stream",
     "text": [
      "user_id    0\n",
      "rev        0\n",
      "dtype: int64\n",
      "user_id    541\n",
      "rev         39\n",
      "dtype: int64\n"
     ]
    },
    {
     "data": {
      "text/html": [
       "<div>\n",
       "<style scoped>\n",
       "    .dataframe tbody tr th:only-of-type {\n",
       "        vertical-align: middle;\n",
       "    }\n",
       "\n",
       "    .dataframe tbody tr th {\n",
       "        vertical-align: top;\n",
       "    }\n",
       "\n",
       "    .dataframe thead th {\n",
       "        text-align: right;\n",
       "    }\n",
       "</style>\n",
       "<table border=\"1\" class=\"dataframe\">\n",
       "  <thead>\n",
       "    <tr style=\"text-align: right;\">\n",
       "      <th></th>\n",
       "      <th>user_id</th>\n",
       "      <th>rev</th>\n",
       "    </tr>\n",
       "  </thead>\n",
       "  <tbody>\n",
       "    <tr>\n",
       "      <th>0</th>\n",
       "      <td>1627</td>\n",
       "      <td>990.0</td>\n",
       "    </tr>\n",
       "    <tr>\n",
       "      <th>1</th>\n",
       "      <td>3185</td>\n",
       "      <td>690.0</td>\n",
       "    </tr>\n",
       "    <tr>\n",
       "      <th>2</th>\n",
       "      <td>25973</td>\n",
       "      <td>690.0</td>\n",
       "    </tr>\n",
       "    <tr>\n",
       "      <th>3</th>\n",
       "      <td>26280</td>\n",
       "      <td>690.0</td>\n",
       "    </tr>\n",
       "    <tr>\n",
       "      <th>4</th>\n",
       "      <td>100300</td>\n",
       "      <td>990.0</td>\n",
       "    </tr>\n",
       "    <tr>\n",
       "      <th>...</th>\n",
       "      <td>...</td>\n",
       "      <td>...</td>\n",
       "    </tr>\n",
       "    <tr>\n",
       "      <th>536</th>\n",
       "      <td>5645737</td>\n",
       "      <td>1900.0</td>\n",
       "    </tr>\n",
       "    <tr>\n",
       "      <th>537</th>\n",
       "      <td>5651566</td>\n",
       "      <td>1900.0</td>\n",
       "    </tr>\n",
       "    <tr>\n",
       "      <th>538</th>\n",
       "      <td>5662322</td>\n",
       "      <td>1900.0</td>\n",
       "    </tr>\n",
       "    <tr>\n",
       "      <th>539</th>\n",
       "      <td>5681918</td>\n",
       "      <td>1900.0</td>\n",
       "    </tr>\n",
       "    <tr>\n",
       "      <th>540</th>\n",
       "      <td>5740903</td>\n",
       "      <td>1900.0</td>\n",
       "    </tr>\n",
       "  </tbody>\n",
       "</table>\n",
       "<p>541 rows × 2 columns</p>\n",
       "</div>"
      ],
      "text/plain": [
       "     user_id     rev\n",
       "0       1627   990.0\n",
       "1       3185   690.0\n",
       "2      25973   690.0\n",
       "3      26280   690.0\n",
       "4     100300   990.0\n",
       "..       ...     ...\n",
       "536  5645737  1900.0\n",
       "537  5651566  1900.0\n",
       "538  5662322  1900.0\n",
       "539  5681918  1900.0\n",
       "540  5740903  1900.0\n",
       "\n",
       "[541 rows x 2 columns]"
      ]
     },
     "execution_count": 14,
     "metadata": {},
     "output_type": "execute_result"
    }
   ],
   "source": [
    "checks = get_df_rom_ya_disk('https://disk.yandex.ru/d/pH1q-VqcxXjsVA', ';')\n",
    "checks = checks.rename(columns = {'student_id':'user_id'})\n",
    "print(checks.isna().sum()) # Пропусков нет\n",
    "print(checks.nunique()) # Без дублей\n",
    "checks"
   ]
  },
  {
   "cell_type": "code",
   "execution_count": 15,
   "metadata": {},
   "outputs": [
    {
     "data": {
      "text/plain": [
       "<seaborn.axisgrid.FacetGrid at 0x7f4fd916e278>"
      ]
     },
     "execution_count": 15,
     "metadata": {},
     "output_type": "execute_result"
    },
    {
     "data": {
      "image/png": "[encoded data removed]",
      "text/plain": [
       "<Figure size 360x360 with 1 Axes>"
      ]
     },
     "metadata": {
      "needs_background": "light"
     },
     "output_type": "display_data"
    }
   ],
   "source": [
    "sns.displot(data = checks, x = \"rev\", bins = 39)\n",
    "# Не похоже на какое-то конкретное распределение, но как-будто две явные моды, \n",
    "# это в целом согласуется с идеей о наличии двух групп"
   ]
  },
  {
   "cell_type": "markdown",
   "metadata": {},
   "source": [
    "## Анализ метрик\n",
    "Так как меняется только механизм оплаты, \n",
    "то мы опустим рассмотрение доли активных пользователей от всего пользователей пользователей группе\n",
    "\n",
    "Я предлагалаю рассмотреть 3 следующие метрики:\n",
    "    1. Конверсия из активности в покупку по группам (Хи-квадрат)\n",
    "    2. Средний чек по группам (t-test)\n",
    "    3. Сумма, если бы количество пользователей было одинаковым (bootstrap)"
   ]
  },
  {
   "cell_type": "markdown",
   "metadata": {},
   "source": [
    "### Конверсия из активности в покупку по группам\n",
    "Этой метрикой мы посмотрим то, есть ли разница в том, насколько охотно люди будут покупать (в зависимости от группы)\n",
    "Смотрим на то, не просела ли метрика, а может наоборот поднялась\n",
    "\n",
    "Выберем альфу 0.01\n",
    "\n",
    "И мощность 0.99\n",
    "\n",
    "Если результат получится незначимым, то посчитаем MDE"
   ]
  },
  {
   "cell_type": "code",
   "execution_count": 16,
   "metadata": {},
   "outputs": [
    {
     "data": {
      "text/html": [
       "<div>\n",
       "<style scoped>\n",
       "    .dataframe tbody tr th:only-of-type {\n",
       "        vertical-align: middle;\n",
       "    }\n",
       "\n",
       "    .dataframe tbody tr th {\n",
       "        vertical-align: top;\n",
       "    }\n",
       "\n",
       "    .dataframe thead th {\n",
       "        text-align: right;\n",
       "    }\n",
       "</style>\n",
       "<table border=\"1\" class=\"dataframe\">\n",
       "  <thead>\n",
       "    <tr style=\"text-align: right;\">\n",
       "      <th></th>\n",
       "      <th>user_id</th>\n",
       "      <th>group</th>\n",
       "      <th>paid</th>\n",
       "    </tr>\n",
       "  </thead>\n",
       "  <tbody>\n",
       "    <tr>\n",
       "      <th>0</th>\n",
       "      <td>581585</td>\n",
       "      <td>A</td>\n",
       "      <td>0</td>\n",
       "    </tr>\n",
       "    <tr>\n",
       "      <th>1</th>\n",
       "      <td>3276743</td>\n",
       "      <td>B</td>\n",
       "      <td>0</td>\n",
       "    </tr>\n",
       "    <tr>\n",
       "      <th>2</th>\n",
       "      <td>4238589</td>\n",
       "      <td>A</td>\n",
       "      <td>0</td>\n",
       "    </tr>\n",
       "    <tr>\n",
       "      <th>3</th>\n",
       "      <td>4475369</td>\n",
       "      <td>B</td>\n",
       "      <td>0</td>\n",
       "    </tr>\n",
       "    <tr>\n",
       "      <th>4</th>\n",
       "      <td>5481015</td>\n",
       "      <td>B</td>\n",
       "      <td>0</td>\n",
       "    </tr>\n",
       "    <tr>\n",
       "      <th>...</th>\n",
       "      <td>...</td>\n",
       "      <td>...</td>\n",
       "      <td>...</td>\n",
       "    </tr>\n",
       "    <tr>\n",
       "      <th>8323</th>\n",
       "      <td>1794344</td>\n",
       "      <td>B</td>\n",
       "      <td>0</td>\n",
       "    </tr>\n",
       "    <tr>\n",
       "      <th>8324</th>\n",
       "      <td>296883</td>\n",
       "      <td>B</td>\n",
       "      <td>0</td>\n",
       "    </tr>\n",
       "    <tr>\n",
       "      <th>8325</th>\n",
       "      <td>3598448</td>\n",
       "      <td>B</td>\n",
       "      <td>0</td>\n",
       "    </tr>\n",
       "    <tr>\n",
       "      <th>8326</th>\n",
       "      <td>3610547</td>\n",
       "      <td>B</td>\n",
       "      <td>1</td>\n",
       "    </tr>\n",
       "    <tr>\n",
       "      <th>8327</th>\n",
       "      <td>205705</td>\n",
       "      <td>B</td>\n",
       "      <td>0</td>\n",
       "    </tr>\n",
       "  </tbody>\n",
       "</table>\n",
       "<p>8328 rows × 3 columns</p>\n",
       "</div>"
      ],
      "text/plain": [
       "      user_id group  paid\n",
       "0      581585     A     0\n",
       "1     3276743     B     0\n",
       "2     4238589     A     0\n",
       "3     4475369     B     0\n",
       "4     5481015     B     0\n",
       "...       ...   ...   ...\n",
       "8323  1794344     B     0\n",
       "8324   296883     B     0\n",
       "8325  3598448     B     0\n",
       "8326  3610547     B     1\n",
       "8327   205705     B     0\n",
       "\n",
       "[8328 rows x 3 columns]"
      ]
     },
     "execution_count": 16,
     "metadata": {},
     "output_type": "execute_result"
    }
   ],
   "source": [
    "# Подготовим датафрейм\n",
    "active_studs_gr = active_studs.merge(groups, how = 'inner', on = 'user_id')\n",
    "res = active_studs_gr.merge(checks, how = 'left', on = 'user_id')\n",
    "res.rev = res.rev.isna().apply(lambda x: not x).astype(int)\n",
    "res = res.rename(columns = {'rev':'paid'})\n",
    "res"
   ]
  },
  {
   "cell_type": "code",
   "execution_count": 17,
   "metadata": {},
   "outputs": [],
   "source": [
    "# Посчитаем тест\n",
    "expected, observed, stats = pg.chi2_independence(data = res, x = 'group', y = 'paid', correction = True) # Применяем корректировку\n",
    "# так как количество степеней свободы = 1"
   ]
  },
  {
   "cell_type": "code",
   "execution_count": 18,
   "metadata": {},
   "outputs": [
    {
     "data": {
      "text/html": [
       "<div>\n",
       "<style scoped>\n",
       "    .dataframe tbody tr th:only-of-type {\n",
       "        vertical-align: middle;\n",
       "    }\n",
       "\n",
       "    .dataframe tbody tr th {\n",
       "        vertical-align: top;\n",
       "    }\n",
       "\n",
       "    .dataframe thead th {\n",
       "        text-align: right;\n",
       "    }\n",
       "</style>\n",
       "<table border=\"1\" class=\"dataframe\">\n",
       "  <thead>\n",
       "    <tr style=\"text-align: right;\">\n",
       "      <th>paid</th>\n",
       "      <th>0</th>\n",
       "      <th>1</th>\n",
       "    </tr>\n",
       "    <tr>\n",
       "      <th>group</th>\n",
       "      <th></th>\n",
       "      <th></th>\n",
       "    </tr>\n",
       "  </thead>\n",
       "  <tbody>\n",
       "    <tr>\n",
       "      <th>A</th>\n",
       "      <td>1462.931676</td>\n",
       "      <td>72.068324</td>\n",
       "    </tr>\n",
       "    <tr>\n",
       "      <th>B</th>\n",
       "      <td>6474.068324</td>\n",
       "      <td>318.931676</td>\n",
       "    </tr>\n",
       "  </tbody>\n",
       "</table>\n",
       "</div>"
      ],
      "text/plain": [
       "paid             0           1\n",
       "group                         \n",
       "A      1462.931676   72.068324\n",
       "B      6474.068324  318.931676"
      ]
     },
     "execution_count": 18,
     "metadata": {},
     "output_type": "execute_result"
    }
   ],
   "source": [
    "# Ожидаемое распредление\n",
    "expected"
   ]
  },
  {
   "cell_type": "code",
   "execution_count": 185,
   "metadata": {},
   "outputs": [
    {
     "data": {
      "text/html": [
       "<div>\n",
       "<style scoped>\n",
       "    .dataframe tbody tr th:only-of-type {\n",
       "        vertical-align: middle;\n",
       "    }\n",
       "\n",
       "    .dataframe tbody tr th {\n",
       "        vertical-align: top;\n",
       "    }\n",
       "\n",
       "    .dataframe thead th {\n",
       "        text-align: right;\n",
       "    }\n",
       "</style>\n",
       "<table border=\"1\" class=\"dataframe\">\n",
       "  <thead>\n",
       "    <tr style=\"text-align: right;\">\n",
       "      <th>paid</th>\n",
       "      <th>0</th>\n",
       "      <th>1</th>\n",
       "    </tr>\n",
       "    <tr>\n",
       "      <th>group</th>\n",
       "      <th></th>\n",
       "      <th></th>\n",
       "    </tr>\n",
       "  </thead>\n",
       "  <tbody>\n",
       "    <tr>\n",
       "      <th>A</th>\n",
       "      <td>1457.5</td>\n",
       "      <td>77.5</td>\n",
       "    </tr>\n",
       "    <tr>\n",
       "      <th>B</th>\n",
       "      <td>6479.5</td>\n",
       "      <td>313.5</td>\n",
       "    </tr>\n",
       "  </tbody>\n",
       "</table>\n",
       "</div>"
      ],
      "text/plain": [
       "paid        0      1\n",
       "group               \n",
       "A      1457.5   77.5\n",
       "B      6479.5  313.5"
      ]
     },
     "execution_count": 185,
     "metadata": {},
     "output_type": "execute_result"
    }
   ],
   "source": [
    "# Наблюдаемое распредление\n",
    "observed # тут мы также видим выполнение допущения об отсутствии очень маленьких групп (<5)\n",
    "# Допущение о независимости мы принимае по умолчанию"
   ]
  },
  {
   "cell_type": "code",
   "execution_count": 186,
   "metadata": {},
   "outputs": [
    {
     "data": {
      "text/html": [
       "<div>\n",
       "<style scoped>\n",
       "    .dataframe tbody tr th:only-of-type {\n",
       "        vertical-align: middle;\n",
       "    }\n",
       "\n",
       "    .dataframe tbody tr th {\n",
       "        vertical-align: top;\n",
       "    }\n",
       "\n",
       "    .dataframe thead th {\n",
       "        text-align: right;\n",
       "    }\n",
       "</style>\n",
       "<table border=\"1\" class=\"dataframe\">\n",
       "  <thead>\n",
       "    <tr style=\"text-align: right;\">\n",
       "      <th></th>\n",
       "      <th>test</th>\n",
       "      <th>lambda</th>\n",
       "      <th>chi2</th>\n",
       "      <th>dof</th>\n",
       "      <th>pval</th>\n",
       "      <th>cramer</th>\n",
       "      <th>power</th>\n",
       "    </tr>\n",
       "  </thead>\n",
       "  <tbody>\n",
       "    <tr>\n",
       "      <th>0</th>\n",
       "      <td>pearson</td>\n",
       "      <td>1.000000</td>\n",
       "      <td>0.526607</td>\n",
       "      <td>1.0</td>\n",
       "      <td>0.468037</td>\n",
       "      <td>0.007952</td>\n",
       "      <td>0.112168</td>\n",
       "    </tr>\n",
       "    <tr>\n",
       "      <th>1</th>\n",
       "      <td>cressie-read</td>\n",
       "      <td>0.666667</td>\n",
       "      <td>0.523446</td>\n",
       "      <td>1.0</td>\n",
       "      <td>0.469375</td>\n",
       "      <td>0.007928</td>\n",
       "      <td>0.111786</td>\n",
       "    </tr>\n",
       "    <tr>\n",
       "      <th>2</th>\n",
       "      <td>log-likelihood</td>\n",
       "      <td>0.000000</td>\n",
       "      <td>0.517247</td>\n",
       "      <td>1.0</td>\n",
       "      <td>0.472019</td>\n",
       "      <td>0.007881</td>\n",
       "      <td>0.111037</td>\n",
       "    </tr>\n",
       "    <tr>\n",
       "      <th>3</th>\n",
       "      <td>freeman-tukey</td>\n",
       "      <td>-0.500000</td>\n",
       "      <td>0.512702</td>\n",
       "      <td>1.0</td>\n",
       "      <td>0.473971</td>\n",
       "      <td>0.007846</td>\n",
       "      <td>0.110488</td>\n",
       "    </tr>\n",
       "    <tr>\n",
       "      <th>4</th>\n",
       "      <td>mod-log-likelihood</td>\n",
       "      <td>-1.000000</td>\n",
       "      <td>0.508246</td>\n",
       "      <td>1.0</td>\n",
       "      <td>0.475899</td>\n",
       "      <td>0.007812</td>\n",
       "      <td>0.109950</td>\n",
       "    </tr>\n",
       "    <tr>\n",
       "      <th>5</th>\n",
       "      <td>neyman</td>\n",
       "      <td>-2.000000</td>\n",
       "      <td>0.499590</td>\n",
       "      <td>1.0</td>\n",
       "      <td>0.479680</td>\n",
       "      <td>0.007745</td>\n",
       "      <td>0.108905</td>\n",
       "    </tr>\n",
       "  </tbody>\n",
       "</table>\n",
       "</div>"
      ],
      "text/plain": [
       "                 test    lambda      chi2  dof      pval    cramer     power\n",
       "0             pearson  1.000000  0.526607  1.0  0.468037  0.007952  0.112168\n",
       "1        cressie-read  0.666667  0.523446  1.0  0.469375  0.007928  0.111786\n",
       "2      log-likelihood  0.000000  0.517247  1.0  0.472019  0.007881  0.111037\n",
       "3       freeman-tukey -0.500000  0.512702  1.0  0.473971  0.007846  0.110488\n",
       "4  mod-log-likelihood -1.000000  0.508246  1.0  0.475899  0.007812  0.109950\n",
       "5              neyman -2.000000  0.499590  1.0  0.479680  0.007745  0.108905"
      ]
     },
     "execution_count": 186,
     "metadata": {},
     "output_type": "execute_result"
    }
   ],
   "source": [
    "# Статистики\n",
    "stats"
   ]
  },
  {
   "cell_type": "code",
   "execution_count": 187,
   "metadata": {},
   "outputs": [
    {
     "data": {
      "text/plain": [
       "0.05371785288525443"
      ]
     },
     "execution_count": 187,
     "metadata": {},
     "output_type": "execute_result"
    }
   ],
   "source": [
    "# Минимальный заметный эффект\n",
    "pg.power_chi2(dof=1, n=8328, power=0.99, alpha=0.01) # Эффект chohen's d"
   ]
  },
  {
   "cell_type": "markdown",
   "metadata": {},
   "source": [
    "Разница между группами статистически не значима, то есть внедрение на выборке другого способа оплаты не повлияло на конверсию из активности в покупку. MDE очень низкий, то есть мы бы заметили даже маааленький эффект"
   ]
  },
  {
   "cell_type": "markdown",
   "metadata": {},
   "source": [
    "### Cредний чек по группам\n",
    "Этой метрикой мы посмотрим меняется ли средний чек в группах\n",
    "\n",
    "Выберем альфу 0.05\n",
    "\n",
    "И мощность 0.90\n",
    "\n",
    "Если результат получится незначимым, то посчитаем MDE"
   ]
  },
  {
   "cell_type": "code",
   "execution_count": 188,
   "metadata": {},
   "outputs": [
    {
     "data": {
      "text/html": [
       "<div>\n",
       "<style scoped>\n",
       "    .dataframe tbody tr th:only-of-type {\n",
       "        vertical-align: middle;\n",
       "    }\n",
       "\n",
       "    .dataframe tbody tr th {\n",
       "        vertical-align: top;\n",
       "    }\n",
       "\n",
       "    .dataframe thead th {\n",
       "        text-align: right;\n",
       "    }\n",
       "</style>\n",
       "<table border=\"1\" class=\"dataframe\">\n",
       "  <thead>\n",
       "    <tr style=\"text-align: right;\">\n",
       "      <th></th>\n",
       "      <th>user_id</th>\n",
       "      <th>rev</th>\n",
       "      <th>group</th>\n",
       "    </tr>\n",
       "  </thead>\n",
       "  <tbody>\n",
       "    <tr>\n",
       "      <th>0</th>\n",
       "      <td>1627</td>\n",
       "      <td>990.0</td>\n",
       "      <td>A</td>\n",
       "    </tr>\n",
       "    <tr>\n",
       "      <th>1</th>\n",
       "      <td>3185</td>\n",
       "      <td>690.0</td>\n",
       "      <td>B</td>\n",
       "    </tr>\n",
       "    <tr>\n",
       "      <th>2</th>\n",
       "      <td>25973</td>\n",
       "      <td>690.0</td>\n",
       "      <td>B</td>\n",
       "    </tr>\n",
       "    <tr>\n",
       "      <th>3</th>\n",
       "      <td>26280</td>\n",
       "      <td>690.0</td>\n",
       "      <td>B</td>\n",
       "    </tr>\n",
       "    <tr>\n",
       "      <th>4</th>\n",
       "      <td>100300</td>\n",
       "      <td>990.0</td>\n",
       "      <td>B</td>\n",
       "    </tr>\n",
       "    <tr>\n",
       "      <th>...</th>\n",
       "      <td>...</td>\n",
       "      <td>...</td>\n",
       "      <td>...</td>\n",
       "    </tr>\n",
       "    <tr>\n",
       "      <th>535</th>\n",
       "      <td>5609523</td>\n",
       "      <td>1900.0</td>\n",
       "      <td>B</td>\n",
       "    </tr>\n",
       "    <tr>\n",
       "      <th>536</th>\n",
       "      <td>5645737</td>\n",
       "      <td>1900.0</td>\n",
       "      <td>B</td>\n",
       "    </tr>\n",
       "    <tr>\n",
       "      <th>537</th>\n",
       "      <td>5651566</td>\n",
       "      <td>1900.0</td>\n",
       "      <td>B</td>\n",
       "    </tr>\n",
       "    <tr>\n",
       "      <th>538</th>\n",
       "      <td>5662322</td>\n",
       "      <td>1900.0</td>\n",
       "      <td>B</td>\n",
       "    </tr>\n",
       "    <tr>\n",
       "      <th>539</th>\n",
       "      <td>5681918</td>\n",
       "      <td>1900.0</td>\n",
       "      <td>B</td>\n",
       "    </tr>\n",
       "  </tbody>\n",
       "</table>\n",
       "<p>540 rows × 3 columns</p>\n",
       "</div>"
      ],
      "text/plain": [
       "     user_id     rev group\n",
       "0       1627   990.0     A\n",
       "1       3185   690.0     B\n",
       "2      25973   690.0     B\n",
       "3      26280   690.0     B\n",
       "4     100300   990.0     B\n",
       "..       ...     ...   ...\n",
       "535  5609523  1900.0     B\n",
       "536  5645737  1900.0     B\n",
       "537  5651566  1900.0     B\n",
       "538  5662322  1900.0     B\n",
       "539  5681918  1900.0     B\n",
       "\n",
       "[540 rows x 3 columns]"
      ]
     },
     "execution_count": 188,
     "metadata": {},
     "output_type": "execute_result"
    }
   ],
   "source": [
    "checks_with_group = checks.merge(groups, how = 'inner', on = 'user_id')\n",
    "checks_with_group"
   ]
  },
  {
   "cell_type": "code",
   "execution_count": 189,
   "metadata": {},
   "outputs": [
    {
     "data": {
      "text/html": [
       "<div>\n",
       "<style scoped>\n",
       "    .dataframe tbody tr th:only-of-type {\n",
       "        vertical-align: middle;\n",
       "    }\n",
       "\n",
       "    .dataframe tbody tr th {\n",
       "        vertical-align: top;\n",
       "    }\n",
       "\n",
       "    .dataframe thead th {\n",
       "        text-align: right;\n",
       "    }\n",
       "</style>\n",
       "<table border=\"1\" class=\"dataframe\">\n",
       "  <thead>\n",
       "    <tr style=\"text-align: right;\">\n",
       "      <th></th>\n",
       "      <th>T</th>\n",
       "      <th>pval</th>\n",
       "      <th>equal_var</th>\n",
       "    </tr>\n",
       "  </thead>\n",
       "  <tbody>\n",
       "    <tr>\n",
       "      <th>bartlett</th>\n",
       "      <td>1.601113</td>\n",
       "      <td>0.205746</td>\n",
       "      <td>True</td>\n",
       "    </tr>\n",
       "  </tbody>\n",
       "</table>\n",
       "</div>"
      ],
      "text/plain": [
       "                 T      pval  equal_var\n",
       "bartlett  1.601113  0.205746       True"
      ]
     },
     "execution_count": 189,
     "metadata": {},
     "output_type": "execute_result"
    }
   ],
   "source": [
    "# Проверим равенство дисперсий\n",
    "pg.homoscedasticity(data = checks_with_group, dv = \"rev\", group = \"group\", method = \"bartlett\")\n",
    "# Дисперсии равные"
   ]
  },
  {
   "cell_type": "code",
   "execution_count": 190,
   "metadata": {},
   "outputs": [
    {
     "data": {
      "text/html": [
       "<div>\n",
       "<style scoped>\n",
       "    .dataframe tbody tr th:only-of-type {\n",
       "        vertical-align: middle;\n",
       "    }\n",
       "\n",
       "    .dataframe tbody tr th {\n",
       "        vertical-align: top;\n",
       "    }\n",
       "\n",
       "    .dataframe thead th {\n",
       "        text-align: right;\n",
       "    }\n",
       "</style>\n",
       "<table border=\"1\" class=\"dataframe\">\n",
       "  <thead>\n",
       "    <tr style=\"text-align: right;\">\n",
       "      <th></th>\n",
       "      <th>T</th>\n",
       "      <th>dof</th>\n",
       "      <th>alternative</th>\n",
       "      <th>p-val</th>\n",
       "      <th>CI95%</th>\n",
       "      <th>cohen-d</th>\n",
       "      <th>BF10</th>\n",
       "      <th>power</th>\n",
       "    </tr>\n",
       "  </thead>\n",
       "  <tbody>\n",
       "    <tr>\n",
       "      <th>T-test</th>\n",
       "      <td>-2.845427</td>\n",
       "      <td>152.158777</td>\n",
       "      <td>two-sided</td>\n",
       "      <td>0.005047</td>\n",
       "      <td>[-417.29, -75.28]</td>\n",
       "      <td>0.325388</td>\n",
       "      <td>5.696</td>\n",
       "      <td>0.852826</td>\n",
       "    </tr>\n",
       "  </tbody>\n",
       "</table>\n",
       "</div>"
      ],
      "text/plain": [
       "               T         dof alternative     p-val              CI95%  \\\n",
       "T-test -2.845427  152.158777   two-sided  0.005047  [-417.29, -75.28]   \n",
       "\n",
       "         cohen-d   BF10     power  \n",
       "T-test  0.325388  5.696  0.852826  "
      ]
     },
     "execution_count": 190,
     "metadata": {},
     "output_type": "execute_result"
    }
   ],
   "source": [
    "# Сам t-test, хоть дисперсии и равные, но всё-таки используем поправку Велча, так как группы разные по размеру\n",
    "pg.ttest(\n",
    "         x = checks_with_group[checks_with_group['group'] == \"A\"][\"rev\"], \n",
    "         y = checks_with_group[checks_with_group['group'] == \"B\"][\"rev\"],\n",
    "         correction = True\n",
    ")\n",
    "# Различие получилось значимым, на выбранном уровне альфа"
   ]
  },
  {
   "cell_type": "code",
   "execution_count": 191,
   "metadata": {},
   "outputs": [
    {
     "data": {
      "text/plain": [
       "<seaborn.axisgrid.FacetGrid at 0x7fda37ed8dd8>"
      ]
     },
     "execution_count": 191,
     "metadata": {},
     "output_type": "execute_result"
    },
    {
     "data": {
      "image/png": "[encoded data removed]",
      "text/plain": [
       "<Figure size 402.875x360 with 1 Axes>"
      ]
     },
     "metadata": {
      "needs_background": "light"
     },
     "output_type": "display_data"
    }
   ],
   "source": [
    "# График распределения\n",
    "sns.displot(data = checks_with_group, x = \"rev\", hue = \"group\", bins = 39)"
   ]
  },
  {
   "cell_type": "code",
   "execution_count": 192,
   "metadata": {},
   "outputs": [
    {
     "data": {
      "text/plain": [
       "<matplotlib.axes._subplots.AxesSubplot at 0x7fda37973a90>"
      ]
     },
     "execution_count": 192,
     "metadata": {},
     "output_type": "execute_result"
    },
    {
     "data": {
      "image/png": "[encoded data removed]",
      "text/plain": [
       "<Figure size 432x288 with 1 Axes>"
      ]
     },
     "metadata": {
      "needs_background": "light"
     },
     "output_type": "display_data"
    }
   ],
   "source": [
    "sns.pointplot(data = checks_with_group, linestyles = \"none\", \n",
    "              x = \"group\", \n",
    "              hue = \"group\",\n",
    "              y = \"rev\", \n",
    "              errorbar = \"ci\", \n",
    "              capsize=.4, \n",
    "              palette=[\"#C0C0C0\", \"#2E8B57\"], \n",
    "              marker=\"D\")"
   ]
  },
  {
   "cell_type": "markdown",
   "metadata": {},
   "source": [
    "Введение нового механизма оплаты дало на выборке увеличение суммы среднего чека"
   ]
  },
  {
   "cell_type": "markdown",
   "metadata": {},
   "source": [
    "### Сумма, если бы количество пользователей было одинаковым\n",
    "Это в целом целевая метрика, можем её смоделировать\n",
    "\n",
    "Сделаем это так:\n",
    "1. Возьмём активных пользователей\n",
    "2. Присоединим в к ним группы\n",
    "3. К прошлому шагу присоединим чеки, заменяя пропуски нулями\n",
    "4. Поделим на две выборки (A и B группы)\n",
    "5. Будем из каждой группы брать по 1000 наблюдений с возвратом и считать сумму\n",
    "6. Повторим 1000 раз для каждой группы\n",
    "7. Соберём один датасет\n",
    "8. Проведём t-test"
   ]
  },
  {
   "cell_type": "code",
   "execution_count": 193,
   "metadata": {},
   "outputs": [
    {
     "data": {
      "text/html": [
       "<div>\n",
       "<style scoped>\n",
       "    .dataframe tbody tr th:only-of-type {\n",
       "        vertical-align: middle;\n",
       "    }\n",
       "\n",
       "    .dataframe tbody tr th {\n",
       "        vertical-align: top;\n",
       "    }\n",
       "\n",
       "    .dataframe thead th {\n",
       "        text-align: right;\n",
       "    }\n",
       "</style>\n",
       "<table border=\"1\" class=\"dataframe\">\n",
       "  <thead>\n",
       "    <tr style=\"text-align: right;\">\n",
       "      <th></th>\n",
       "      <th>user_id</th>\n",
       "      <th>group</th>\n",
       "      <th>rev</th>\n",
       "    </tr>\n",
       "  </thead>\n",
       "  <tbody>\n",
       "    <tr>\n",
       "      <th>0</th>\n",
       "      <td>581585</td>\n",
       "      <td>A</td>\n",
       "      <td>0.0</td>\n",
       "    </tr>\n",
       "    <tr>\n",
       "      <th>1</th>\n",
       "      <td>3276743</td>\n",
       "      <td>B</td>\n",
       "      <td>0.0</td>\n",
       "    </tr>\n",
       "    <tr>\n",
       "      <th>2</th>\n",
       "      <td>4238589</td>\n",
       "      <td>A</td>\n",
       "      <td>0.0</td>\n",
       "    </tr>\n",
       "    <tr>\n",
       "      <th>3</th>\n",
       "      <td>4475369</td>\n",
       "      <td>B</td>\n",
       "      <td>0.0</td>\n",
       "    </tr>\n",
       "    <tr>\n",
       "      <th>4</th>\n",
       "      <td>5481015</td>\n",
       "      <td>B</td>\n",
       "      <td>0.0</td>\n",
       "    </tr>\n",
       "    <tr>\n",
       "      <th>...</th>\n",
       "      <td>...</td>\n",
       "      <td>...</td>\n",
       "      <td>...</td>\n",
       "    </tr>\n",
       "    <tr>\n",
       "      <th>8323</th>\n",
       "      <td>1794344</td>\n",
       "      <td>B</td>\n",
       "      <td>0.0</td>\n",
       "    </tr>\n",
       "    <tr>\n",
       "      <th>8324</th>\n",
       "      <td>296883</td>\n",
       "      <td>B</td>\n",
       "      <td>0.0</td>\n",
       "    </tr>\n",
       "    <tr>\n",
       "      <th>8325</th>\n",
       "      <td>3598448</td>\n",
       "      <td>B</td>\n",
       "      <td>0.0</td>\n",
       "    </tr>\n",
       "    <tr>\n",
       "      <th>8326</th>\n",
       "      <td>3610547</td>\n",
       "      <td>B</td>\n",
       "      <td>290.0</td>\n",
       "    </tr>\n",
       "    <tr>\n",
       "      <th>8327</th>\n",
       "      <td>205705</td>\n",
       "      <td>B</td>\n",
       "      <td>0.0</td>\n",
       "    </tr>\n",
       "  </tbody>\n",
       "</table>\n",
       "<p>8328 rows × 3 columns</p>\n",
       "</div>"
      ],
      "text/plain": [
       "      user_id group    rev\n",
       "0      581585     A    0.0\n",
       "1     3276743     B    0.0\n",
       "2     4238589     A    0.0\n",
       "3     4475369     B    0.0\n",
       "4     5481015     B    0.0\n",
       "...       ...   ...    ...\n",
       "8323  1794344     B    0.0\n",
       "8324   296883     B    0.0\n",
       "8325  3598448     B    0.0\n",
       "8326  3610547     B  290.0\n",
       "8327   205705     B    0.0\n",
       "\n",
       "[8328 rows x 3 columns]"
      ]
     },
     "execution_count": 193,
     "metadata": {},
     "output_type": "execute_result"
    }
   ],
   "source": [
    "# Шаги 1-3\n",
    "rev_0 = active_studs_gr.merge(checks, how = 'left', on = 'user_id').fillna(0)\n",
    "rev_0"
   ]
  },
  {
   "cell_type": "code",
   "execution_count": 194,
   "metadata": {},
   "outputs": [
    {
     "data": {
      "text/html": [
       "<div>\n",
       "<style scoped>\n",
       "    .dataframe tbody tr th:only-of-type {\n",
       "        vertical-align: middle;\n",
       "    }\n",
       "\n",
       "    .dataframe tbody tr th {\n",
       "        vertical-align: top;\n",
       "    }\n",
       "\n",
       "    .dataframe thead th {\n",
       "        text-align: right;\n",
       "    }\n",
       "</style>\n",
       "<table border=\"1\" class=\"dataframe\">\n",
       "  <thead>\n",
       "    <tr style=\"text-align: right;\">\n",
       "      <th></th>\n",
       "      <th>user_id</th>\n",
       "      <th>group</th>\n",
       "      <th>rev</th>\n",
       "    </tr>\n",
       "  </thead>\n",
       "  <tbody>\n",
       "    <tr>\n",
       "      <th>0</th>\n",
       "      <td>581585</td>\n",
       "      <td>A</td>\n",
       "      <td>0.0</td>\n",
       "    </tr>\n",
       "    <tr>\n",
       "      <th>2</th>\n",
       "      <td>4238589</td>\n",
       "      <td>A</td>\n",
       "      <td>0.0</td>\n",
       "    </tr>\n",
       "    <tr>\n",
       "      <th>6</th>\n",
       "      <td>1394612</td>\n",
       "      <td>A</td>\n",
       "      <td>0.0</td>\n",
       "    </tr>\n",
       "    <tr>\n",
       "      <th>20</th>\n",
       "      <td>5194768</td>\n",
       "      <td>A</td>\n",
       "      <td>0.0</td>\n",
       "    </tr>\n",
       "    <tr>\n",
       "      <th>21</th>\n",
       "      <td>3658923</td>\n",
       "      <td>A</td>\n",
       "      <td>0.0</td>\n",
       "    </tr>\n",
       "    <tr>\n",
       "      <th>...</th>\n",
       "      <td>...</td>\n",
       "      <td>...</td>\n",
       "      <td>...</td>\n",
       "    </tr>\n",
       "    <tr>\n",
       "      <th>8304</th>\n",
       "      <td>3208984</td>\n",
       "      <td>A</td>\n",
       "      <td>0.0</td>\n",
       "    </tr>\n",
       "    <tr>\n",
       "      <th>8307</th>\n",
       "      <td>2900558</td>\n",
       "      <td>A</td>\n",
       "      <td>0.0</td>\n",
       "    </tr>\n",
       "    <tr>\n",
       "      <th>8313</th>\n",
       "      <td>1161774</td>\n",
       "      <td>A</td>\n",
       "      <td>0.0</td>\n",
       "    </tr>\n",
       "    <tr>\n",
       "      <th>8317</th>\n",
       "      <td>5006972</td>\n",
       "      <td>A</td>\n",
       "      <td>0.0</td>\n",
       "    </tr>\n",
       "    <tr>\n",
       "      <th>8321</th>\n",
       "      <td>4037274</td>\n",
       "      <td>A</td>\n",
       "      <td>0.0</td>\n",
       "    </tr>\n",
       "  </tbody>\n",
       "</table>\n",
       "<p>1535 rows × 3 columns</p>\n",
       "</div>"
      ],
      "text/plain": [
       "      user_id group  rev\n",
       "0      581585     A  0.0\n",
       "2     4238589     A  0.0\n",
       "6     1394612     A  0.0\n",
       "20    5194768     A  0.0\n",
       "21    3658923     A  0.0\n",
       "...       ...   ...  ...\n",
       "8304  3208984     A  0.0\n",
       "8307  2900558     A  0.0\n",
       "8313  1161774     A  0.0\n",
       "8317  5006972     A  0.0\n",
       "8321  4037274     A  0.0\n",
       "\n",
       "[1535 rows x 3 columns]"
      ]
     },
     "execution_count": 194,
     "metadata": {},
     "output_type": "execute_result"
    }
   ],
   "source": [
    "# Шаг 4.1\n",
    "rev_0_a = rev_0.query('group == \"A\"')\n",
    "rev_0_a"
   ]
  },
  {
   "cell_type": "code",
   "execution_count": 195,
   "metadata": {},
   "outputs": [
    {
     "data": {
      "text/html": [
       "<div>\n",
       "<style scoped>\n",
       "    .dataframe tbody tr th:only-of-type {\n",
       "        vertical-align: middle;\n",
       "    }\n",
       "\n",
       "    .dataframe tbody tr th {\n",
       "        vertical-align: top;\n",
       "    }\n",
       "\n",
       "    .dataframe thead th {\n",
       "        text-align: right;\n",
       "    }\n",
       "</style>\n",
       "<table border=\"1\" class=\"dataframe\">\n",
       "  <thead>\n",
       "    <tr style=\"text-align: right;\">\n",
       "      <th></th>\n",
       "      <th>user_id</th>\n",
       "      <th>group</th>\n",
       "      <th>rev</th>\n",
       "    </tr>\n",
       "  </thead>\n",
       "  <tbody>\n",
       "    <tr>\n",
       "      <th>1</th>\n",
       "      <td>3276743</td>\n",
       "      <td>B</td>\n",
       "      <td>0.0</td>\n",
       "    </tr>\n",
       "    <tr>\n",
       "      <th>3</th>\n",
       "      <td>4475369</td>\n",
       "      <td>B</td>\n",
       "      <td>0.0</td>\n",
       "    </tr>\n",
       "    <tr>\n",
       "      <th>4</th>\n",
       "      <td>5481015</td>\n",
       "      <td>B</td>\n",
       "      <td>0.0</td>\n",
       "    </tr>\n",
       "    <tr>\n",
       "      <th>5</th>\n",
       "      <td>1353433</td>\n",
       "      <td>B</td>\n",
       "      <td>0.0</td>\n",
       "    </tr>\n",
       "    <tr>\n",
       "      <th>7</th>\n",
       "      <td>1170611</td>\n",
       "      <td>B</td>\n",
       "      <td>0.0</td>\n",
       "    </tr>\n",
       "    <tr>\n",
       "      <th>...</th>\n",
       "      <td>...</td>\n",
       "      <td>...</td>\n",
       "      <td>...</td>\n",
       "    </tr>\n",
       "    <tr>\n",
       "      <th>8323</th>\n",
       "      <td>1794344</td>\n",
       "      <td>B</td>\n",
       "      <td>0.0</td>\n",
       "    </tr>\n",
       "    <tr>\n",
       "      <th>8324</th>\n",
       "      <td>296883</td>\n",
       "      <td>B</td>\n",
       "      <td>0.0</td>\n",
       "    </tr>\n",
       "    <tr>\n",
       "      <th>8325</th>\n",
       "      <td>3598448</td>\n",
       "      <td>B</td>\n",
       "      <td>0.0</td>\n",
       "    </tr>\n",
       "    <tr>\n",
       "      <th>8326</th>\n",
       "      <td>3610547</td>\n",
       "      <td>B</td>\n",
       "      <td>290.0</td>\n",
       "    </tr>\n",
       "    <tr>\n",
       "      <th>8327</th>\n",
       "      <td>205705</td>\n",
       "      <td>B</td>\n",
       "      <td>0.0</td>\n",
       "    </tr>\n",
       "  </tbody>\n",
       "</table>\n",
       "<p>6793 rows × 3 columns</p>\n",
       "</div>"
      ],
      "text/plain": [
       "      user_id group    rev\n",
       "1     3276743     B    0.0\n",
       "3     4475369     B    0.0\n",
       "4     5481015     B    0.0\n",
       "5     1353433     B    0.0\n",
       "7     1170611     B    0.0\n",
       "...       ...   ...    ...\n",
       "8323  1794344     B    0.0\n",
       "8324   296883     B    0.0\n",
       "8325  3598448     B    0.0\n",
       "8326  3610547     B  290.0\n",
       "8327   205705     B    0.0\n",
       "\n",
       "[6793 rows x 3 columns]"
      ]
     },
     "execution_count": 195,
     "metadata": {},
     "output_type": "execute_result"
    }
   ],
   "source": [
    "# Шаг 4.2\n",
    "rev_0_b = rev_0.query('group == \"B\"')\n",
    "rev_0_b"
   ]
  },
  {
   "cell_type": "code",
   "execution_count": 201,
   "metadata": {},
   "outputs": [
    {
     "data": {
      "text/html": [
       "<div>\n",
       "<style scoped>\n",
       "    .dataframe tbody tr th:only-of-type {\n",
       "        vertical-align: middle;\n",
       "    }\n",
       "\n",
       "    .dataframe tbody tr th {\n",
       "        vertical-align: top;\n",
       "    }\n",
       "\n",
       "    .dataframe thead th {\n",
       "        text-align: right;\n",
       "    }\n",
       "</style>\n",
       "<table border=\"1\" class=\"dataframe\">\n",
       "  <thead>\n",
       "    <tr style=\"text-align: right;\">\n",
       "      <th></th>\n",
       "      <th>total_rev</th>\n",
       "      <th>group</th>\n",
       "    </tr>\n",
       "  </thead>\n",
       "  <tbody>\n",
       "    <tr>\n",
       "      <th>0</th>\n",
       "      <td>52412.0</td>\n",
       "      <td>A</td>\n",
       "    </tr>\n",
       "    <tr>\n",
       "      <th>1</th>\n",
       "      <td>36803.0</td>\n",
       "      <td>A</td>\n",
       "    </tr>\n",
       "    <tr>\n",
       "      <th>2</th>\n",
       "      <td>29323.0</td>\n",
       "      <td>A</td>\n",
       "    </tr>\n",
       "    <tr>\n",
       "      <th>3</th>\n",
       "      <td>50133.0</td>\n",
       "      <td>A</td>\n",
       "    </tr>\n",
       "    <tr>\n",
       "      <th>4</th>\n",
       "      <td>47282.0</td>\n",
       "      <td>A</td>\n",
       "    </tr>\n",
       "    <tr>\n",
       "      <th>...</th>\n",
       "      <td>...</td>\n",
       "      <td>...</td>\n",
       "    </tr>\n",
       "    <tr>\n",
       "      <th>995</th>\n",
       "      <td>43953.0</td>\n",
       "      <td>A</td>\n",
       "    </tr>\n",
       "    <tr>\n",
       "      <th>996</th>\n",
       "      <td>45293.0</td>\n",
       "      <td>A</td>\n",
       "    </tr>\n",
       "    <tr>\n",
       "      <th>997</th>\n",
       "      <td>48164.0</td>\n",
       "      <td>A</td>\n",
       "    </tr>\n",
       "    <tr>\n",
       "      <th>998</th>\n",
       "      <td>43994.0</td>\n",
       "      <td>A</td>\n",
       "    </tr>\n",
       "    <tr>\n",
       "      <th>999</th>\n",
       "      <td>48774.0</td>\n",
       "      <td>A</td>\n",
       "    </tr>\n",
       "  </tbody>\n",
       "</table>\n",
       "<p>1000 rows × 2 columns</p>\n",
       "</div>"
      ],
      "text/plain": [
       "     total_rev group\n",
       "0      52412.0     A\n",
       "1      36803.0     A\n",
       "2      29323.0     A\n",
       "3      50133.0     A\n",
       "4      47282.0     A\n",
       "..         ...   ...\n",
       "995    43953.0     A\n",
       "996    45293.0     A\n",
       "997    48164.0     A\n",
       "998    43994.0     A\n",
       "999    48774.0     A\n",
       "\n",
       "[1000 rows x 2 columns]"
      ]
     },
     "execution_count": 201,
     "metadata": {},
     "output_type": "execute_result"
    }
   ],
   "source": [
    "# Шаг (5-6).1\n",
    "seed(10)\n",
    "sm_a = []\n",
    "for i in range(0, 1000):\n",
    "    sm_a.append(sum(sample(list(rev_0_a['rev']), 1000)))\n",
    "sm_a\n",
    "boot_a = pd.DataFrame(sm_a, columns = ['total_rev'])\n",
    "boot_a['group'] = 'A'\n",
    "boot_a"
   ]
  },
  {
   "cell_type": "code",
   "execution_count": 202,
   "metadata": {},
   "outputs": [
    {
     "data": {
      "text/html": [
       "<div>\n",
       "<style scoped>\n",
       "    .dataframe tbody tr th:only-of-type {\n",
       "        vertical-align: middle;\n",
       "    }\n",
       "\n",
       "    .dataframe tbody tr th {\n",
       "        vertical-align: top;\n",
       "    }\n",
       "\n",
       "    .dataframe thead th {\n",
       "        text-align: right;\n",
       "    }\n",
       "</style>\n",
       "<table border=\"1\" class=\"dataframe\">\n",
       "  <thead>\n",
       "    <tr style=\"text-align: right;\">\n",
       "      <th></th>\n",
       "      <th>total_rev</th>\n",
       "      <th>group</th>\n",
       "    </tr>\n",
       "  </thead>\n",
       "  <tbody>\n",
       "    <tr>\n",
       "      <th>0</th>\n",
       "      <td>46431.0008</td>\n",
       "      <td>B</td>\n",
       "    </tr>\n",
       "    <tr>\n",
       "      <th>1</th>\n",
       "      <td>69999.0006</td>\n",
       "      <td>B</td>\n",
       "    </tr>\n",
       "    <tr>\n",
       "      <th>2</th>\n",
       "      <td>71428.0005</td>\n",
       "      <td>B</td>\n",
       "    </tr>\n",
       "    <tr>\n",
       "      <th>3</th>\n",
       "      <td>55539.0005</td>\n",
       "      <td>B</td>\n",
       "    </tr>\n",
       "    <tr>\n",
       "      <th>4</th>\n",
       "      <td>59493.0003</td>\n",
       "      <td>B</td>\n",
       "    </tr>\n",
       "    <tr>\n",
       "      <th>...</th>\n",
       "      <td>...</td>\n",
       "      <td>...</td>\n",
       "    </tr>\n",
       "    <tr>\n",
       "      <th>995</th>\n",
       "      <td>61979.0008</td>\n",
       "      <td>B</td>\n",
       "    </tr>\n",
       "    <tr>\n",
       "      <th>996</th>\n",
       "      <td>65750.0007</td>\n",
       "      <td>B</td>\n",
       "    </tr>\n",
       "    <tr>\n",
       "      <th>997</th>\n",
       "      <td>48619.0001</td>\n",
       "      <td>B</td>\n",
       "    </tr>\n",
       "    <tr>\n",
       "      <th>998</th>\n",
       "      <td>48401.0006</td>\n",
       "      <td>B</td>\n",
       "    </tr>\n",
       "    <tr>\n",
       "      <th>999</th>\n",
       "      <td>59573.0004</td>\n",
       "      <td>B</td>\n",
       "    </tr>\n",
       "  </tbody>\n",
       "</table>\n",
       "<p>1000 rows × 2 columns</p>\n",
       "</div>"
      ],
      "text/plain": [
       "      total_rev group\n",
       "0    46431.0008     B\n",
       "1    69999.0006     B\n",
       "2    71428.0005     B\n",
       "3    55539.0005     B\n",
       "4    59493.0003     B\n",
       "..          ...   ...\n",
       "995  61979.0008     B\n",
       "996  65750.0007     B\n",
       "997  48619.0001     B\n",
       "998  48401.0006     B\n",
       "999  59573.0004     B\n",
       "\n",
       "[1000 rows x 2 columns]"
      ]
     },
     "execution_count": 202,
     "metadata": {},
     "output_type": "execute_result"
    }
   ],
   "source": [
    "# Шаг (5-6).2\n",
    "seed(10)\n",
    "sm_b = []\n",
    "for i in range(0, 1000):\n",
    "    sm_b.append(sum(sample(list(rev_0_b['rev']), 1000)))\n",
    "sm_b\n",
    "boot_b = pd.DataFrame(sm_b, columns = ['total_rev'])\n",
    "boot_b['group'] = 'B'\n",
    "boot_b"
   ]
  },
  {
   "cell_type": "code",
   "execution_count": 203,
   "metadata": {},
   "outputs": [
    {
     "data": {
      "text/html": [
       "<div>\n",
       "<style scoped>\n",
       "    .dataframe tbody tr th:only-of-type {\n",
       "        vertical-align: middle;\n",
       "    }\n",
       "\n",
       "    .dataframe tbody tr th {\n",
       "        vertical-align: top;\n",
       "    }\n",
       "\n",
       "    .dataframe thead th {\n",
       "        text-align: right;\n",
       "    }\n",
       "</style>\n",
       "<table border=\"1\" class=\"dataframe\">\n",
       "  <thead>\n",
       "    <tr style=\"text-align: right;\">\n",
       "      <th></th>\n",
       "      <th>total_rev</th>\n",
       "      <th>group</th>\n",
       "    </tr>\n",
       "  </thead>\n",
       "  <tbody>\n",
       "    <tr>\n",
       "      <th>0</th>\n",
       "      <td>52412.0000</td>\n",
       "      <td>A</td>\n",
       "    </tr>\n",
       "    <tr>\n",
       "      <th>1</th>\n",
       "      <td>36803.0000</td>\n",
       "      <td>A</td>\n",
       "    </tr>\n",
       "    <tr>\n",
       "      <th>2</th>\n",
       "      <td>29323.0000</td>\n",
       "      <td>A</td>\n",
       "    </tr>\n",
       "    <tr>\n",
       "      <th>3</th>\n",
       "      <td>50133.0000</td>\n",
       "      <td>A</td>\n",
       "    </tr>\n",
       "    <tr>\n",
       "      <th>4</th>\n",
       "      <td>47282.0000</td>\n",
       "      <td>A</td>\n",
       "    </tr>\n",
       "    <tr>\n",
       "      <th>...</th>\n",
       "      <td>...</td>\n",
       "      <td>...</td>\n",
       "    </tr>\n",
       "    <tr>\n",
       "      <th>995</th>\n",
       "      <td>61979.0008</td>\n",
       "      <td>B</td>\n",
       "    </tr>\n",
       "    <tr>\n",
       "      <th>996</th>\n",
       "      <td>65750.0007</td>\n",
       "      <td>B</td>\n",
       "    </tr>\n",
       "    <tr>\n",
       "      <th>997</th>\n",
       "      <td>48619.0001</td>\n",
       "      <td>B</td>\n",
       "    </tr>\n",
       "    <tr>\n",
       "      <th>998</th>\n",
       "      <td>48401.0006</td>\n",
       "      <td>B</td>\n",
       "    </tr>\n",
       "    <tr>\n",
       "      <th>999</th>\n",
       "      <td>59573.0004</td>\n",
       "      <td>B</td>\n",
       "    </tr>\n",
       "  </tbody>\n",
       "</table>\n",
       "<p>2000 rows × 2 columns</p>\n",
       "</div>"
      ],
      "text/plain": [
       "      total_rev group\n",
       "0    52412.0000     A\n",
       "1    36803.0000     A\n",
       "2    29323.0000     A\n",
       "3    50133.0000     A\n",
       "4    47282.0000     A\n",
       "..          ...   ...\n",
       "995  61979.0008     B\n",
       "996  65750.0007     B\n",
       "997  48619.0001     B\n",
       "998  48401.0006     B\n",
       "999  59573.0004     B\n",
       "\n",
       "[2000 rows x 2 columns]"
      ]
     },
     "execution_count": 203,
     "metadata": {},
     "output_type": "execute_result"
    }
   ],
   "source": [
    "# Шаг 7\n",
    "boot_total = pd.concat([boot_a, boot_b])\n",
    "boot_total"
   ]
  },
  {
   "cell_type": "code",
   "execution_count": 204,
   "metadata": {},
   "outputs": [
    {
     "data": {
      "text/html": [
       "<div>\n",
       "<style scoped>\n",
       "    .dataframe tbody tr th:only-of-type {\n",
       "        vertical-align: middle;\n",
       "    }\n",
       "\n",
       "    .dataframe tbody tr th {\n",
       "        vertical-align: top;\n",
       "    }\n",
       "\n",
       "    .dataframe thead th {\n",
       "        text-align: right;\n",
       "    }\n",
       "</style>\n",
       "<table border=\"1\" class=\"dataframe\">\n",
       "  <thead>\n",
       "    <tr style=\"text-align: right;\">\n",
       "      <th></th>\n",
       "      <th>T</th>\n",
       "      <th>pval</th>\n",
       "      <th>equal_var</th>\n",
       "    </tr>\n",
       "  </thead>\n",
       "  <tbody>\n",
       "    <tr>\n",
       "      <th>bartlett</th>\n",
       "      <td>260.371535</td>\n",
       "      <td>1.424068e-58</td>\n",
       "      <td>False</td>\n",
       "    </tr>\n",
       "  </tbody>\n",
       "</table>\n",
       "</div>"
      ],
      "text/plain": [
       "                   T          pval  equal_var\n",
       "bartlett  260.371535  1.424068e-58      False"
      ]
     },
     "execution_count": 204,
     "metadata": {},
     "output_type": "execute_result"
    }
   ],
   "source": [
    "# Шаг 8.1\n",
    "# Проверим равенство дисперсий\n",
    "pg.homoscedasticity(data = boot_total, dv = \"total_rev\", group = \"group\", method = \"bartlett\")\n",
    "# Дисперсии разные, используем поправку"
   ]
  },
  {
   "cell_type": "code",
   "execution_count": 205,
   "metadata": {},
   "outputs": [
    {
     "data": {
      "text/html": [
       "<div>\n",
       "<style scoped>\n",
       "    .dataframe tbody tr th:only-of-type {\n",
       "        vertical-align: middle;\n",
       "    }\n",
       "\n",
       "    .dataframe tbody tr th {\n",
       "        vertical-align: top;\n",
       "    }\n",
       "\n",
       "    .dataframe thead th {\n",
       "        text-align: right;\n",
       "    }\n",
       "</style>\n",
       "<table border=\"1\" class=\"dataframe\">\n",
       "  <thead>\n",
       "    <tr style=\"text-align: right;\">\n",
       "      <th></th>\n",
       "      <th>T</th>\n",
       "      <th>dof</th>\n",
       "      <th>alternative</th>\n",
       "      <th>p-val</th>\n",
       "      <th>CI95%</th>\n",
       "      <th>cohen-d</th>\n",
       "      <th>BF10</th>\n",
       "      <th>power</th>\n",
       "    </tr>\n",
       "  </thead>\n",
       "  <tbody>\n",
       "    <tr>\n",
       "      <th>T-test</th>\n",
       "      <td>-32.436032</td>\n",
       "      <td>1625.002983</td>\n",
       "      <td>two-sided</td>\n",
       "      <td>2.188522e-178</td>\n",
       "      <td>[-11512.87, -10199.88]</td>\n",
       "      <td>1.450583</td>\n",
       "      <td>4.105e+181</td>\n",
       "      <td>1.0</td>\n",
       "    </tr>\n",
       "  </tbody>\n",
       "</table>\n",
       "</div>"
      ],
      "text/plain": [
       "                T          dof alternative          p-val  \\\n",
       "T-test -32.436032  1625.002983   two-sided  2.188522e-178   \n",
       "\n",
       "                         CI95%   cohen-d        BF10  power  \n",
       "T-test  [-11512.87, -10199.88]  1.450583  4.105e+181    1.0  "
      ]
     },
     "execution_count": 205,
     "metadata": {},
     "output_type": "execute_result"
    }
   ],
   "source": [
    "# Шаг 8.2\n",
    "# Сам t-test\n",
    "pg.ttest(\n",
    "         x = boot_a[\"total_rev\"], \n",
    "         y = boot_b[\"total_rev\"],\n",
    "         correction = True\n",
    ")\n",
    "# Различие получилось значимым, на выбранном уровне альфа. Сила эффекта высокая"
   ]
  },
  {
   "cell_type": "code",
   "execution_count": 206,
   "metadata": {},
   "outputs": [
    {
     "data": {
      "text/plain": [
       "<matplotlib.axes._subplots.AxesSubplot at 0x7fda379cee10>"
      ]
     },
     "execution_count": 206,
     "metadata": {},
     "output_type": "execute_result"
    },
    {
     "data": {
      "image/png": "[encoded data removed]",
      "text/plain": [
       "<Figure size 432x288 with 1 Axes>"
      ]
     },
     "metadata": {
      "needs_background": "light"
     },
     "output_type": "display_data"
    }
   ],
   "source": [
    "# Построим среднее и доверительные интервалы\n",
    "sns.pointplot(data = boot_total, linestyles = \"none\", \n",
    "              x = \"group\", \n",
    "              hue = \"group\",\n",
    "              y = \"total_rev\", \n",
    "              errorbar = \"ci\", \n",
    "              capsize=.4, \n",
    "              palette=[\"#C0C0C0\", \"#2E8B57\"], \n",
    "              marker=\"D\")"
   ]
  },
  {
   "cell_type": "code",
   "execution_count": 207,
   "metadata": {},
   "outputs": [
    {
     "data": {
      "text/plain": [
       "<seaborn.axisgrid.FacetGrid at 0x7fda377dc908>"
      ]
     },
     "execution_count": 207,
     "metadata": {},
     "output_type": "execute_result"
    },
    {
     "data": {
      "image/png": "[encoded data removed]",
      "text/plain": [
       "<Figure size 402.875x360 with 1 Axes>"
      ]
     },
     "metadata": {
      "needs_background": "light"
     },
     "output_type": "display_data"
    }
   ],
   "source": [
    "# Построим распределения\n",
    "sns.displot(data = boot_total, x = \"total_rev\", hue = \"group\", bins = 50)"
   ]
  },
  {
   "cell_type": "markdown",
   "metadata": {},
   "source": [
    "Мы симмулировали 1000 ситуаций, где количество человек в каждой группе было бы равно и посчитали суммы для кажой такой ситуации, затем построили распредления\n",
    "\n",
    "Итого, в группе B суммарная выручка с высокой долей вероятности больше"
   ]
  },
  {
   "cell_type": "markdown",
   "metadata": {},
   "source": [
    "## Итог по A/B\n",
    "\n",
    "Мы столкнулись с ситуацией двйоной поставки данных, от второй - малой порции было решено отказаться: её невозможно анализировать отдельно, а добавлять к первой порции посчитали не уместным, так как разный временной промежуток и неизвестны причины разрыва в подаче\n",
    "\n",
    "Также мы столкнулись с ситуацией разного размера выборок, это нам не помешало, так как не было слишком малых групп в случае работы с хи-квадратом, а в случае t-теста было равенство дисперсий\n",
    "\n",
    "Результаты показали, что мы с высокой долей уверенности можем ожидать увеличения выручки при введении новой системы. В первую очередь такое увеличение достигается за счёт увеличенного среднего чека при той-же конверсии из посещения в покупку\n",
    "\n",
    "Нагляднее всего это удалось продемонстрировать на симмуляции, где мы построили распредление выручек для случая равенства групп и провели t-test для переменной суммы\n",
    "\n",
    "Итог: **рекомендуем раскатку нового механизма на всех пользователей**"
   ]
  },
  {
   "cell_type": "markdown",
   "metadata": {},
   "source": [
    "# Инсайты из исторических данных"
   ]
  },
  {
   "cell_type": "markdown",
   "metadata": {},
   "source": [
    "##  Очень усердные ученики.\n",
    "Под усердным студентом мы понимаем студента, который правильно решил 20 задач за текущий месяц.\n",
    "\n",
    "Вопрос, нужно ли чтобы эти задачи были решены в рамках одного предмета? Одного урока?\n",
    "Мною было решено ответить на оба вопроса отрицательно, так как усердие - качество скорее ученика, нежели предмета\n",
    "\n",
    "Вопрос текущего месяца тоже актуален, так как данные исторические - выберем последний"
   ]
  },
  {
   "cell_type": "code",
   "execution_count": 8,
   "metadata": {},
   "outputs": [],
   "source": [
    "# Подключаемся\n",
    "\n",
    "conn = {'host': 'https://clickhouse.lab.karpov.courses/',\n",
    "                      'database':'default',\n",
    "                      'user':'student', \n",
    "                      'password':'dpo_python_2020'}"
   ]
  },
  {
   "cell_type": "code",
   "execution_count": 9,
   "metadata": {},
   "outputs": [],
   "source": [
    "# Пишем граммотный запрос\n",
    "# Выбираем только нужные колонки, CH колоночная СУБД, в теории смысл есть (хотя количество строк для CH на зубок)\n",
    "# id, timest преобразованные к месяцу (к началу месяца, иначе смешались бы октябри разных годов и так далее),\n",
    "# сумму от поля правильности (переменная бинарная, в клике булиня даже отдельного нет), сумма строк = сумма единиц = сумма прав.\n",
    "# группируем по юзеру и месяцу\n",
    "# фильтруем после аггрегации по последнему месяцу и количестве решённых правильно от 20\n",
    "# (поигравшись с данными я понял, что у нас только последний месяц)\n",
    "# Сортируем по количеству правильных, это имеет больший смылс (номер id не имеет смысла, а месяц константа)\n",
    "# Помещаем всё это в CTE и находим количество строк\n",
    "\n",
    "q1 = \"\"\"\n",
    "WITH dedicated_st AS (\n",
    "  SELECT \n",
    "    st_id, \n",
    "    toStartOfMonth(timest) AS mon, \n",
    "    SUM(correct) AS corr_count \n",
    "  FROM \n",
    "    default.peas \n",
    "  GROUP BY \n",
    "    st_id, \n",
    "    mon \n",
    "  HAVING \n",
    "    mon == MAX(mon) \n",
    "    AND corr_count >= 20 \n",
    "  ORDER BY \n",
    "    corr_count DESC\n",
    ") \n",
    "SELECT \n",
    "  count(*) \n",
    "FROM \n",
    "  dedicated_st\n",
    "\"\"\""
   ]
  },
  {
   "cell_type": "code",
   "execution_count": 14,
   "metadata": {},
   "outputs": [
    {
     "data": {
      "text/plain": [
       "136"
      ]
     },
     "execution_count": 14,
     "metadata": {},
     "output_type": "execute_result"
    }
   ],
   "source": [
    "# Выполняем запрос и сохраняем в переменную\n",
    "num_dedicated_st = ph.read_clickhouse(query=q1, connection=conn)['count()'][0]\n",
    "num_dedicated_st"
   ]
  },
  {
   "cell_type": "markdown",
   "metadata": {},
   "source": [
    "## Оптимизация воронки\n",
    "Образовательная платформа предлагает пройти студентам курсы по модели trial: студент может решить бесплатно лишь 30 горошин в день. Для неограниченного количества заданий в определенной дисциплине студенту необходимо приобрести полный доступ. Команда провела эксперимент, где был протестирован новый экран оплаты.\n",
    "\n",
    "**Необходимо выгрузить следующую информацию о группах пользователей:**\n",
    "\n",
    "- ARPU \n",
    "- ARPAU \n",
    "- CR в покупку \n",
    "- СR активного пользователя в покупку \n",
    "- CR пользователя из активности по математике (subject = ’math’) в покупку курса по математике\n",
    "\n",
    "**Некоторые замечания касательно метрик:**\n",
    "\n",
    "- ARPU считается относительно всех пользователей, попавших в группы.\n",
    "- Активным считается пользователь, за все время решивший больше 10 задач правильно в любых дисциплинах.\n",
    "- Активным по математике считается пользователь, за все время решивший 2 или больше задач правильно по математике."
   ]
  },
  {
   "cell_type": "code",
   "execution_count": null,
   "metadata": {},
   "outputs": [],
   "source": [
    "# Подключаемся\n",
    "\n",
    "conn = {'host': 'https://clickhouse.lab.karpov.courses/',\n",
    "                      'database':'default',\n",
    "                      'user':'student', \n",
    "                      'password':'dpo_python_2020'}"
   ]
  },
  {
   "cell_type": "code",
   "execution_count": 15,
   "metadata": {},
   "outputs": [],
   "source": [
    "# Пишем граммотный запрос\n",
    "# Сначала напишем запрос, используя CTE для каждой метрики, а потом посмотрим, можно ли оптимизировать\n",
    "# CH хорошо работает с таблицами с большим кол-вом колонок и плохо дружит с джоинами\n",
    "# Однако у нас все результирующие таблицы по две строки, а если пробовать сначала джоинить, потом делать условные аггрегации, \n",
    "# то читаемость кода сильно падает\n",
    "# Поэтому оставил CTE для активных пользователей, активных пользователей по математике и каждой метрики, потом сделал джоин\n",
    "\n",
    "q2 = \"\"\"\n",
    "WITH active_st AS (\n",
    "  SELECT \n",
    "    st_id, \n",
    "    SUM(correct) AS corr_count \n",
    "  FROM \n",
    "    default.peas \n",
    "  GROUP BY \n",
    "    st_id \n",
    "  HAVING \n",
    "    corr_count > 10\n",
    "), \n",
    "active_st_math AS (\n",
    "  SELECT \n",
    "    st_id, \n",
    "    SUM(correct) AS corr_count \n",
    "  FROM \n",
    "    default.peas \n",
    "  WHERE \n",
    "    subject == 'Math' \n",
    "  GROUP BY \n",
    "    st_id \n",
    "  HAVING \n",
    "    corr_count >= 2\n",
    "), \n",
    "arpu AS (\n",
    "  SELECT \n",
    "    test_grp, \n",
    "    ROUND(\n",
    "      SUM(money)/ COUNT(studs.st_id), \n",
    "      2\n",
    "    ) AS ARPU \n",
    "  FROM \n",
    "    default.studs AS studs \n",
    "    LEFT JOIN default.final_project_check AS check ON studs.st_id = check.st_id \n",
    "  GROUP BY \n",
    "    test_grp\n",
    "), \n",
    "arpau AS (\n",
    "  SELECT \n",
    "    test_grp, \n",
    "    ROUND(\n",
    "      SUM(money)/ COUNT(studs.st_id), \n",
    "      2\n",
    "    ) AS ARPAU \n",
    "  FROM \n",
    "    default.studs AS studs \n",
    "    LEFT JOIN default.final_project_check AS check ON studs.st_id = check.st_id \n",
    "  WHERE \n",
    "    st_id IN (\n",
    "      SELECT \n",
    "        st_id \n",
    "      FROM \n",
    "        active_st\n",
    "    ) \n",
    "  GROUP BY \n",
    "    test_grp\n",
    "), \n",
    "cr AS (\n",
    "  SELECT \n",
    "    test_grp, \n",
    "    ROUND(\n",
    "      countIf(money > 0) / COUNT(studs.st_id), \n",
    "      2\n",
    "    ) AS CR \n",
    "  FROM \n",
    "    default.studs AS studs \n",
    "    LEFT JOIN default.final_project_check AS check ON studs.st_id = check.st_id \n",
    "  GROUP BY \n",
    "    test_grp\n",
    "), \n",
    "a_cr AS (\n",
    "  SELECT \n",
    "    test_grp, \n",
    "    ROUND(\n",
    "      countIf(money > 0) / COUNT(studs.st_id), \n",
    "      2\n",
    "    ) AS A_CR \n",
    "  FROM \n",
    "    default.studs AS studs \n",
    "    LEFT JOIN default.final_project_check AS check ON studs.st_id = check.st_id \n",
    "  WHERE \n",
    "    st_id IN (\n",
    "      SELECT \n",
    "        st_id \n",
    "      FROM \n",
    "        active_st\n",
    "    ) \n",
    "  GROUP BY \n",
    "    test_grp\n",
    "), \n",
    "m_cr AS (\n",
    "  SELECT \n",
    "    test_grp, \n",
    "    ROUND(\n",
    "      countIf(\n",
    "        money > 0 \n",
    "        AND subject == 'Math'\n",
    "      ) / COUNT(studs.st_id), \n",
    "      2\n",
    "    ) AS M_CR \n",
    "  FROM \n",
    "    default.studs AS studs \n",
    "    LEFT JOIN default.final_project_check AS check ON studs.st_id = check.st_id \n",
    "  WHERE \n",
    "    st_id IN (\n",
    "      SELECT \n",
    "        st_id \n",
    "      FROM \n",
    "        active_st_math\n",
    "    ) \n",
    "  GROUP BY \n",
    "    test_grp\n",
    ") \n",
    "SELECT \n",
    "  arpu.test_grp AS GROUP, \n",
    "  ARPU, \n",
    "  ARPAU, \n",
    "  CR, \n",
    "  A_CR, \n",
    "  M_CR \n",
    "FROM \n",
    "  arpu AS arpu \n",
    "  INNER JOIN arpau AS arpau ON arpu.test_grp == arpau.test_grp \n",
    "  INNER JOIN cr AS cr ON arpu.test_grp == cr.test_grp \n",
    "  INNER JOIN a_cr AS a_cr ON arpu.test_grp == a_cr.test_grp \n",
    "  INNER JOIN m_cr AS m_cr ON arpu.test_grp == m_cr.test_grp\n",
    "\"\"\""
   ]
  },
  {
   "cell_type": "code",
   "execution_count": 17,
   "metadata": {},
   "outputs": [
    {
     "data": {
      "text/html": [
       "<div>\n",
       "<style scoped>\n",
       "    .dataframe tbody tr th:only-of-type {\n",
       "        vertical-align: middle;\n",
       "    }\n",
       "\n",
       "    .dataframe tbody tr th {\n",
       "        vertical-align: top;\n",
       "    }\n",
       "\n",
       "    .dataframe thead th {\n",
       "        text-align: right;\n",
       "    }\n",
       "</style>\n",
       "<table border=\"1\" class=\"dataframe\">\n",
       "  <thead>\n",
       "    <tr style=\"text-align: right;\">\n",
       "      <th></th>\n",
       "      <th>GROUP</th>\n",
       "      <th>ARPU</th>\n",
       "      <th>ARPAU</th>\n",
       "      <th>CR</th>\n",
       "      <th>A_CR</th>\n",
       "      <th>M_CR</th>\n",
       "    </tr>\n",
       "  </thead>\n",
       "  <tbody>\n",
       "    <tr>\n",
       "      <th>0</th>\n",
       "      <td>control</td>\n",
       "      <td>4496.75</td>\n",
       "      <td>10153.85</td>\n",
       "      <td>0.06</td>\n",
       "      <td>0.13</td>\n",
       "      <td>0.06</td>\n",
       "    </tr>\n",
       "    <tr>\n",
       "      <th>1</th>\n",
       "      <td>pilot</td>\n",
       "      <td>11094.77</td>\n",
       "      <td>26933.96</td>\n",
       "      <td>0.14</td>\n",
       "      <td>0.33</td>\n",
       "      <td>0.09</td>\n",
       "    </tr>\n",
       "  </tbody>\n",
       "</table>\n",
       "</div>"
      ],
      "text/plain": [
       "     GROUP      ARPU     ARPAU    CR  A_CR  M_CR\n",
       "0  control   4496.75  10153.85  0.06  0.13  0.06\n",
       "1    pilot  11094.77  26933.96  0.14  0.33  0.09"
      ]
     },
     "execution_count": 17,
     "metadata": {},
     "output_type": "execute_result"
    }
   ],
   "source": [
    "# Выполняем запрос и сохраняем в переменную\n",
    "main_metrics_ab = ph.read_clickhouse(query=q2, connection=conn)\n",
    "main_metrics_ab\n",
    "\n",
    "# Мы, на первый взгляд, видим улучшение по всем метрикам, однако требуедтся дополнительная статистическая проверка\n",
    "# перед тем, как можно было бы делать какие-то окончательные выводы\n",
    "\n",
    "# P.s. Относительно оптимизации запроса. Можно было сделать меньшим количеством джоинов: оставить два CTE (active и active_math)\n",
    "# Метрики же считать в финальном селекте, используя сложные countIf, однако это сильно нарушает читаемость\n",
    "# Плюс, опять же - данных мало, а джоины мы использовал довольно рационально, так как объединяли очень маленькие таблички"
   ]
  },
  {
   "cell_type": "markdown",
   "metadata": {},
   "source": [
    "# Удобства разрботки"
   ]
  },
  {
   "cell_type": "markdown",
   "metadata": {},
   "source": [
    "**Задача: реализовать две функции:**\n",
    "\n",
    "1) Функция, которая будет автоматически подгружать информацию из дополнительного файла groups_add.csv (заголовки могут отличаться) и на основании дополнительных параметров пересчитывать метрики.\n",
    "\n",
    "2) Функцию, которая будет строить графики по получаемым метрикам.\n",
    "\n",
    "**Описание реализации:**\n",
    "\n",
    "1) Функция принимает на вход текущий датафрейм/ссылку на яндекс диск и ссылку на яндекс диск/датафрейм с дополнением. Внутри функция подгуржает другие датафреймы с необходимой информацией, считает метрики. Возвращает результаты метрик и датасеты для каждой метрики\n",
    "\n",
    "2) Функция, которая принимает датафрейм с заранее определёнными колонками и выводит графики"
   ]
  },
  {
   "cell_type": "code",
   "execution_count": 2,
   "metadata": {},
   "outputs": [],
   "source": [
    "# Объявим старые функции\n",
    "\n",
    "# Функция для получения датафрейма по ссылке на яндекс диск\n",
    "def get_df_rom_ya_disk(public_key, sep = ','):\n",
    "    # Используем api \n",
    "    base_url = 'https://cloud-api.yandex.net/v1/disk/public/resources/download?' \n",
    " \n",
    "    # Получаем url \n",
    "    final_url = base_url + urlencode(dict(public_key=public_key)) \n",
    "    response = requests.get(final_url) \n",
    "    download_url = response.json()['href'] \n",
    " \n",
    "    # Загружаем файл в df \n",
    "    download_response = requests.get(download_url) \n",
    "    return pd.read_csv(download_url, sep = sep)\n",
    "\n",
    "# Функция для переименовки\n",
    "\n",
    "def st_names(groups):\n",
    "    groups.columns = ['user_id', 'group']\n",
    "    return groups\n",
    "\n",
    "# Считаем распредление сумм\n",
    "def boot_sum(df, gr):\n",
    "    seed(10)\n",
    "    sm = []\n",
    "    for i in range(0, 1000):\n",
    "        sm.append(sum(sample(list(df['rev']), 1000)))\n",
    "    boot = pd.DataFrame(sm, columns = ['total_rev'])\n",
    "    boot['group'] = gr\n",
    "    return boot"
   ]
  },
  {
   "cell_type": "code",
   "execution_count": 11,
   "metadata": {},
   "outputs": [],
   "source": [
    "# Определим функцию, которая обновляет данные\n",
    "def update_data(old_df, new_df):\n",
    "    \n",
    "    # Разберёмся с типами \n",
    "    # Если строка, то нам передали ссылку и мы загрузим датафрейм и поменяем имена\n",
    "    if isinstance(old_df, str):\n",
    "        sep = input(\"Введите разделитель для старых данных: \")\n",
    "        old_df = st_names(get_df_rom_ya_disk(old_df, sep))\n",
    "    else:\n",
    "        old_df = st_names(old_df)\n",
    "        \n",
    "    # В ином случае просто поменяем имена:\n",
    "    if isinstance(new_df, str):\n",
    "        sep = input(\"Введите разделитель для новых данных: \")\n",
    "        new_df = st_names(get_df_rom_ya_disk(new_df, sep))\n",
    "    else:\n",
    "        new_df = st_names(new_df)\n",
    "    \n",
    "    \n",
    "    # Подгрузим дополнительные датафреймы и принудительно установим имена\n",
    "    active_studs = get_df_rom_ya_disk('https://disk.yandex.ru/d/Tbs44Bm6H_FwFQ', ',')\n",
    "    active_studs.columns = ['user_id']\n",
    "    \n",
    "    checks = get_df_rom_ya_disk('https://disk.yandex.ru/d/pH1q-VqcxXjsVA', ';')\n",
    "    checks.columns = ['user_id', 'rev']\n",
    "    \n",
    "    \n",
    "    # Соединим старый и новый датасет и удалим дубликаты, так как дальше будут джоины\n",
    "    new_df = pd.concat([old_df, new_df]).reset_index()\n",
    "    new_df.drop_duplicates\n",
    "    \n",
    "    \n",
    "    # Посчитаем метрики\n",
    "    # Конверсия из активности в покупку по группам\n",
    "    active_studs_gr = active_studs.merge(new_df, how = 'inner', on = 'user_id')\n",
    "    conv = active_studs_gr.merge(checks, how = 'left', on = 'user_id')\n",
    "    \n",
    "    conv.rev = conv.rev.isna().apply(lambda x: not x).astype(int)\n",
    "    conv = conv.rename(columns = {'rev':'paid'})\n",
    "    \n",
    "    conv_a = conv.query('group == \"A\"').paid.mean()\n",
    "    conv_b = conv.query('group == \"B\"').paid.mean()\n",
    "    \n",
    "    conversion = {'df': conv, 'a':conv_a, 'b':conv_b}\n",
    "    \n",
    "    results = {'conversion':conversion}\n",
    "    \n",
    "    \n",
    "    # Средний чек по группам\n",
    "    checks_with_group = checks.merge(new_df, how = 'inner', on = 'user_id')\n",
    "    mc_a = checks_with_group.query('group == \"A\"').rev.mean()\n",
    "    mc_b = checks_with_group.query('group == \"B\"').rev.mean()\n",
    "    \n",
    "    mc = {'df':checks_with_group, 'a':mc_a, 'b':mc_b}\n",
    "    \n",
    "    results['mean_check'] = mc\n",
    "    \n",
    "    # Сумма, если бы количество пользователей было одинаковым (1000)\n",
    "    \n",
    "    rev_0 = active_studs_gr.merge(checks, how = 'left', on = 'user_id').fillna(0)\n",
    "    rev_0_a = rev_0.query('group == \"A\"')\n",
    "    boot_a = boot_sum(rev_0_a,'A')\n",
    "    rev_0_b = rev_0.query('group == \"B\"')\n",
    "    boot_b = boot_sum(rev_0_b,'B')\n",
    "    boot_total = pd.concat([boot_a, boot_b]).reset_index()\n",
    "\n",
    "    boot_sm_a = boot_a.total_rev.mean()\n",
    "    boot_sm_b = boot_b.total_rev.mean()\n",
    "    \n",
    "    mn_sm = {'df':boot_total, 'a':boot_sm_a, 'b':boot_sm_b}\n",
    "    \n",
    "    results['sum_eq'] = mn_sm\n",
    "    \n",
    "    return results"
   ]
  },
  {
   "cell_type": "code",
   "execution_count": 12,
   "metadata": {},
   "outputs": [
    {
     "name": "stdout",
     "output_type": "stream",
     "text": [
      "Введите разделитель для старых данных: ;\n",
      "Введите разделитель для новых данных: ,\n"
     ]
    },
    {
     "data": {
      "text/plain": [
       "{'conversion': {'df':       user_id  index group  paid\n",
       "  0      581585  13188     A     0\n",
       "  1     5723133     39     A     0\n",
       "  2     3276743  55161     B     0\n",
       "  3     4238589  64241     A     0\n",
       "  4     4475369  66435     B     0\n",
       "  ...       ...    ...   ...   ...\n",
       "  8336  1794344  39774     B     0\n",
       "  8337   296883   4885     B     0\n",
       "  8338  3598448  59452     B     0\n",
       "  8339  3610547  59541     B     1\n",
       "  8340   205705   1825     B     0\n",
       "  \n",
       "  [8341 rows x 4 columns],\n",
       "  'a': 0.05071521456436931,\n",
       "  'b': 0.046156107599588415},\n",
       " 'mean_check': {'df':      user_id     rev  index group\n",
       "  0       1627   990.0      1     A\n",
       "  1       3185   690.0     39     B\n",
       "  2      25973   690.0    121     B\n",
       "  3      26280   690.0    125     B\n",
       "  4     100300   990.0    220     B\n",
       "  ..       ...     ...    ...   ...\n",
       "  536  5645737  1900.0  74365     B\n",
       "  537  5651566  1900.0  74381     B\n",
       "  538  5662322  1900.0  74402     B\n",
       "  539  5681918  1900.0  74452     B\n",
       "  540  5740903  1900.0     55     B\n",
       "  \n",
       "  [541 rows x 4 columns],\n",
       "  'a': 860.7102803738318,\n",
       "  'b': 1108.8248930875575},\n",
       " 'sum_eq': {'df':       index   total_rev group\n",
       "  0         0  45464.0000     A\n",
       "  1         1  48525.0000     A\n",
       "  2         2  41753.0000     A\n",
       "  3         3  46554.0000     A\n",
       "  4         4  48084.0000     A\n",
       "  ...     ...         ...   ...\n",
       "  1995    995  48015.0004     B\n",
       "  1996    996  59873.0008     B\n",
       "  1997    997  61127.0004     B\n",
       "  1998    998  48749.0004     B\n",
       "  1999    999  65462.0004     B\n",
       "  \n",
       "  [2000 rows x 3 columns],\n",
       "  'a': 47514.88,\n",
       "  'b': 58417.208526899994}}"
      ]
     },
     "execution_count": 12,
     "metadata": {},
     "output_type": "execute_result"
    }
   ],
   "source": [
    "# Проверим эту функцию\n",
    "link1 = 'https://disk.yandex.ru/d/UhyYx41rTt3clQ'\n",
    "linl2 = 'https://disk.yandex.ru/d/5Kxrz02m3IBUwQ'\n",
    "func_1_test =  update_data(link1, linl2)\n",
    "func_1_test"
   ]
  },
  {
   "cell_type": "code",
   "execution_count": 72,
   "metadata": {},
   "outputs": [],
   "source": [
    "# Определим функцию, которая будет строить графики\n",
    "def draw(data):\n",
    "    %matplotlib inline\n",
    "    \n",
    "    # Графики к конверсии\n",
    "    df = data['conversion']['df']\n",
    "\n",
    "    \n",
    "    # Посмотрим пропорции\n",
    "    proportion_df = (df.groupby('group')['paid']\n",
    "                       .value_counts(normalize=True)\n",
    "                       .rename('proportion')\n",
    "                       .reset_index())\n",
    "\n",
    "    # Сортируем данные\n",
    "    proportion_df.sort_values(['group', 'paid'], inplace=True)\n",
    "\n",
    "    # Строим график\n",
    "    plt.figure(figsize=(10, 6))\n",
    "    bottom = np.zeros(len(proportion_df['group'].unique()))\n",
    "\n",
    "    for idx, category in enumerate(proportion_df['paid'].unique()):\n",
    "        category_slice = proportion_df[proportion_df['paid'] == category]\n",
    "        plt.bar(category_slice['group'], category_slice['proportion'], bottom=bottom, color=sns.color_palette()[idx], label=category)\n",
    "        bottom += category_slice['proportion'].values\n",
    "\n",
    "    plt.title('Конверсия по группам')\n",
    "    plt.ylabel('Конверсия')\n",
    "    plt.xlabel('Группа')\n",
    "    plt.legend(title='Купил (1), не купил (0)')\n",
    "    \n",
    "    \n",
    "    # Графики к среднему чеку\n",
    "    df = data['mean_check']['df']\n",
    "    \n",
    "    # Построим среднее и доверительные интервалы чека\n",
    "    # Построим распределения чеков\n",
    "    plt.figure(figsize=(10, 4))\n",
    "    sns.pointplot(data = df, linestyles = \"none\", \n",
    "              x = \"group\", \n",
    "              hue = \"group\",\n",
    "              y = \"rev\", \n",
    "              errorbar = \"ci\", \n",
    "              capsize=.4, \n",
    "              palette=[\"#C0C0C0\", \"#2E8B57\"], \n",
    "              marker=\"D\")\\\n",
    "              .set(title=\"Среднее и доверительные интервалы чека\")\n",
    "    plt.figure(figsize=(10, 4))\n",
    "    sns.displot(data = df, x = \"rev\", hue = \"group\", bins = 50)\\\n",
    "              .set(title='Распределения чеков')\n",
    "    \n",
    "    # Графики к бутстрапу\n",
    "    df = data['sum_eq']['df']\n",
    "\n",
    "\n",
    "    # Построим среднее и доверительные интервалы сумм\n",
    "    plt.figure(figsize=(10, 4))\n",
    "    sns.pointplot(data = df, linestyles = \"none\", \n",
    "              x = \"group\", \n",
    "              hue = \"group\",\n",
    "              y = \"total_rev\", \n",
    "              errorbar = \"ci\", \n",
    "              capsize=.4, \n",
    "              palette=[\"#C0C0C0\", \"#2E8B57\"], \n",
    "              marker=\"D\")\\\n",
    "              .set(title='Среднее и доверительные интервалы сумм, если бы группы были равны (1000)')\n",
    "    # Построим распределения сумм\n",
    "    plt.figure(figsize=(10, 4))\n",
    "    sns.displot(data = df, x = \"total_rev\", hue = \"group\", bins = 50)\\\n",
    "             .set(title='Распределения сумм, если бы группы были равны (1000)')"
   ]
  },
  {
   "cell_type": "code",
   "execution_count": 73,
   "metadata": {
    "scrolled": false
   },
   "outputs": [
    {
     "data": {
      "image/png": "[encoded data removed]",
      "text/plain": [
       "<Figure size 720x432 with 1 Axes>"
      ]
     },
     "metadata": {
      "needs_background": "light"
     },
     "output_type": "display_data"
    },
    {
     "data": {
      "image/png": "[encoded data removed]",
      "text/plain": [
       "<Figure size 720x288 with 1 Axes>"
      ]
     },
     "metadata": {
      "needs_background": "light"
     },
     "output_type": "display_data"
    },
    {
     "data": {
      "text/plain": [
       "<Figure size 720x288 with 0 Axes>"
      ]
     },
     "metadata": {},
     "output_type": "display_data"
    },
    {
     "data": {
      "image/png": "[encoded data removed]",
      "text/plain": [
       "<Figure size 402.875x360 with 1 Axes>"
      ]
     },
     "metadata": {
      "needs_background": "light"
     },
     "output_type": "display_data"
    },
    {
     "data": {
      "image/png": "[encoded data removed]",
      "text/plain": [
       "<Figure size 720x288 with 1 Axes>"
      ]
     },
     "metadata": {
      "needs_background": "light"
     },
     "output_type": "display_data"
    },
    {
     "data": {
      "text/plain": [
       "<Figure size 720x288 with 0 Axes>"
      ]
     },
     "metadata": {},
     "output_type": "display_data"
    },
    {
     "data": {
      "image/png": "[encoded data removed]",
      "text/plain": [
       "<Figure size 402.875x360 with 1 Axes>"
      ]
     },
     "metadata": {
      "needs_background": "light"
     },
     "output_type": "display_data"
    }
   ],
   "source": [
    "# Проверим функцию, пережав в неё результат прошлой функции\n",
    "draw(func_1_test)"
   ]
  }
 ],
 "metadata": {
  "kernelspec": {
   "display_name": "Python 3",
   "language": "python",
   "name": "python3"
  },
  "language_info": {
   "codemirror_mode": {
    "name": "ipython",
    "version": 3
   },
   "file_extension": ".py",
   "mimetype": "text/x-python",
   "name": "python",
   "nbconvert_exporter": "python",
   "pygments_lexer": "ipython3",
   "version": "3.7.3"
  }
 },
 "nbformat": 4,
 "nbformat_minor": 4
}
